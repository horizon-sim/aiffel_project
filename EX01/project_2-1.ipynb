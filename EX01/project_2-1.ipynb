{
 "cells": [
  {
   "attachments": {},
   "cell_type": "markdown",
   "metadata": {},
   "source": [
    "(1) 데이터 가져오기"
   ]
  },
  {
   "cell_type": "code",
   "execution_count": 1,
   "metadata": {},
   "outputs": [
    {
     "data": {
      "text/plain": [
       "{'data': array([[ 0.03807591,  0.05068012,  0.06169621, ..., -0.00259226,\n",
       "          0.01990749, -0.01764613],\n",
       "        [-0.00188202, -0.04464164, -0.05147406, ..., -0.03949338,\n",
       "         -0.06833155, -0.09220405],\n",
       "        [ 0.08529891,  0.05068012,  0.04445121, ..., -0.00259226,\n",
       "          0.00286131, -0.02593034],\n",
       "        ...,\n",
       "        [ 0.04170844,  0.05068012, -0.01590626, ..., -0.01107952,\n",
       "         -0.04688253,  0.01549073],\n",
       "        [-0.04547248, -0.04464164,  0.03906215, ...,  0.02655962,\n",
       "          0.04452873, -0.02593034],\n",
       "        [-0.04547248, -0.04464164, -0.0730303 , ..., -0.03949338,\n",
       "         -0.00422151,  0.00306441]]),\n",
       " 'target': array([151.,  75., 141., 206., 135.,  97., 138.,  63., 110., 310., 101.,\n",
       "         69., 179., 185., 118., 171., 166., 144.,  97., 168.,  68.,  49.,\n",
       "         68., 245., 184., 202., 137.,  85., 131., 283., 129.,  59., 341.,\n",
       "         87.,  65., 102., 265., 276., 252.,  90., 100.,  55.,  61.,  92.,\n",
       "        259.,  53., 190., 142.,  75., 142., 155., 225.,  59., 104., 182.,\n",
       "        128.,  52.,  37., 170., 170.,  61., 144.,  52., 128.,  71., 163.,\n",
       "        150.,  97., 160., 178.,  48., 270., 202., 111.,  85.,  42., 170.,\n",
       "        200., 252., 113., 143.,  51.,  52., 210.,  65., 141.,  55., 134.,\n",
       "         42., 111.,  98., 164.,  48.,  96.,  90., 162., 150., 279.,  92.,\n",
       "         83., 128., 102., 302., 198.,  95.,  53., 134., 144., 232.,  81.,\n",
       "        104.,  59., 246., 297., 258., 229., 275., 281., 179., 200., 200.,\n",
       "        173., 180.,  84., 121., 161.,  99., 109., 115., 268., 274., 158.,\n",
       "        107.,  83., 103., 272.,  85., 280., 336., 281., 118., 317., 235.,\n",
       "         60., 174., 259., 178., 128.,  96., 126., 288.,  88., 292.,  71.,\n",
       "        197., 186.,  25.,  84.,  96., 195.,  53., 217., 172., 131., 214.,\n",
       "         59.,  70., 220., 268., 152.,  47.,  74., 295., 101., 151., 127.,\n",
       "        237., 225.,  81., 151., 107.,  64., 138., 185., 265., 101., 137.,\n",
       "        143., 141.,  79., 292., 178.,  91., 116.,  86., 122.,  72., 129.,\n",
       "        142.,  90., 158.,  39., 196., 222., 277.,  99., 196., 202., 155.,\n",
       "         77., 191.,  70.,  73.,  49.,  65., 263., 248., 296., 214., 185.,\n",
       "         78.,  93., 252., 150.,  77., 208.,  77., 108., 160.,  53., 220.,\n",
       "        154., 259.,  90., 246., 124.,  67.,  72., 257., 262., 275., 177.,\n",
       "         71.,  47., 187., 125.,  78.,  51., 258., 215., 303., 243.,  91.,\n",
       "        150., 310., 153., 346.,  63.,  89.,  50.,  39., 103., 308., 116.,\n",
       "        145.,  74.,  45., 115., 264.,  87., 202., 127., 182., 241.,  66.,\n",
       "         94., 283.,  64., 102., 200., 265.,  94., 230., 181., 156., 233.,\n",
       "         60., 219.,  80.,  68., 332., 248.,  84., 200.,  55.,  85.,  89.,\n",
       "         31., 129.,  83., 275.,  65., 198., 236., 253., 124.,  44., 172.,\n",
       "        114., 142., 109., 180., 144., 163., 147.,  97., 220., 190., 109.,\n",
       "        191., 122., 230., 242., 248., 249., 192., 131., 237.,  78., 135.,\n",
       "        244., 199., 270., 164.,  72.,  96., 306.,  91., 214.,  95., 216.,\n",
       "        263., 178., 113., 200., 139., 139.,  88., 148.,  88., 243.,  71.,\n",
       "         77., 109., 272.,  60.,  54., 221.,  90., 311., 281., 182., 321.,\n",
       "         58., 262., 206., 233., 242., 123., 167.,  63., 197.,  71., 168.,\n",
       "        140., 217., 121., 235., 245.,  40.,  52., 104., 132.,  88.,  69.,\n",
       "        219.,  72., 201., 110.,  51., 277.,  63., 118.,  69., 273., 258.,\n",
       "         43., 198., 242., 232., 175.,  93., 168., 275., 293., 281.,  72.,\n",
       "        140., 189., 181., 209., 136., 261., 113., 131., 174., 257.,  55.,\n",
       "         84.,  42., 146., 212., 233.,  91., 111., 152., 120.,  67., 310.,\n",
       "         94., 183.,  66., 173.,  72.,  49.,  64.,  48., 178., 104., 132.,\n",
       "        220.,  57.]),\n",
       " 'frame': None,\n",
       " 'DESCR': '.. _diabetes_dataset:\\n\\nDiabetes dataset\\n----------------\\n\\nTen baseline variables, age, sex, body mass index, average blood\\npressure, and six blood serum measurements were obtained for each of n =\\n442 diabetes patients, as well as the response of interest, a\\nquantitative measure of disease progression one year after baseline.\\n\\n**Data Set Characteristics:**\\n\\n  :Number of Instances: 442\\n\\n  :Number of Attributes: First 10 columns are numeric predictive values\\n\\n  :Target: Column 11 is a quantitative measure of disease progression one year after baseline\\n\\n  :Attribute Information:\\n      - age     age in years\\n      - sex\\n      - bmi     body mass index\\n      - bp      average blood pressure\\n      - s1      tc, total serum cholesterol\\n      - s2      ldl, low-density lipoproteins\\n      - s3      hdl, high-density lipoproteins\\n      - s4      tch, total cholesterol / HDL\\n      - s5      ltg, possibly log of serum triglycerides level\\n      - s6      glu, blood sugar level\\n\\nNote: Each of these 10 feature variables have been mean centered and scaled by the standard deviation times the square root of `n_samples` (i.e. the sum of squares of each column totals 1).\\n\\nSource URL:\\nhttps://www4.stat.ncsu.edu/~boos/var.select/diabetes.html\\n\\nFor more information see:\\nBradley Efron, Trevor Hastie, Iain Johnstone and Robert Tibshirani (2004) \"Least Angle Regression,\" Annals of Statistics (with discussion), 407-499.\\n(https://web.stanford.edu/~hastie/Papers/LARS/LeastAngle_2002.pdf)\\n',\n",
       " 'feature_names': ['age',\n",
       "  'sex',\n",
       "  'bmi',\n",
       "  'bp',\n",
       "  's1',\n",
       "  's2',\n",
       "  's3',\n",
       "  's4',\n",
       "  's5',\n",
       "  's6'],\n",
       " 'data_filename': 'diabetes_data_raw.csv.gz',\n",
       " 'target_filename': 'diabetes_target.csv.gz',\n",
       " 'data_module': 'sklearn.datasets.data'}"
      ]
     },
     "execution_count": 1,
     "metadata": {},
     "output_type": "execute_result"
    }
   ],
   "source": [
    "import pandas as pd\n",
    "from sklearn.datasets import load_diabetes\n",
    "\n",
    "df = load_diabetes()\n",
    "df\n",
    "# 어느하나 뺄게 없이 모두 중요하다"
   ]
  },
  {
   "cell_type": "code",
   "execution_count": 2,
   "metadata": {},
   "outputs": [],
   "source": [
    "df_X = df.data\n",
    "df_y = df.target"
   ]
  },
  {
   "attachments": {},
   "cell_type": "markdown",
   "metadata": {},
   "source": [
    "(2)(3) 모델에 입력할 데이터 X, y 준비하기"
   ]
  },
  {
   "cell_type": "code",
   "execution_count": 3,
   "metadata": {},
   "outputs": [],
   "source": [
    "import numpy as np\n",
    "\n",
    "\n",
    "df_X = np.array(df_X)\n",
    "df_y = np.array(df_y)"
   ]
  },
  {
   "cell_type": "code",
   "execution_count": 59,
   "metadata": {},
   "outputs": [],
   "source": [
    "# (4) train 데이터와 test 데이터로 분리\n",
    "\n",
    "from sklearn.model_selection import train_test_split\n",
    "\n",
    "X_train, X_test, y_train, y_test = train_test_split(df_X, df_y, test_size=0.2, random_state=41)"
   ]
  },
  {
   "cell_type": "code",
   "execution_count": 5,
   "metadata": {},
   "outputs": [],
   "source": [
    "# (5) 모델 준비하기\n",
    "def model(x, w, b):\n",
    "    y = 0\n",
    "    for i in range(10):\n",
    "        y += x[:, i] * w[i]\n",
    "    y += b\n",
    "    return y"
   ]
  },
  {
   "cell_type": "code",
   "execution_count": 6,
   "metadata": {},
   "outputs": [],
   "source": [
    "# (6) 손실함수 loss 정의하기\n",
    "\n",
    "# 오차의 제곱의 평균\n",
    "def MSE(a, b):\n",
    "    mse = ((a - b) ** 2).mean()\n",
    "    return mse\n",
    "\n",
    "def loss(x, w, b, y):\n",
    "    prediction = model(x, w, b)\n",
    "    L = MSE(prediction, y)\n",
    "    return L"
   ]
  },
  {
   "cell_type": "code",
   "execution_count": 7,
   "metadata": {},
   "outputs": [],
   "source": [
    "# (7) 기울기를 구하는 gradient 함수 구현하기\n",
    "\n",
    "def gradient(x, w, b, y):\n",
    "    # N은 데이터 포인트의 개수\n",
    "    N = len(y)\n",
    "    \n",
    "    # y_pred 준비\n",
    "    y_pred = model(x, w, b)\n",
    "    \n",
    "    # 공식에 맞게 gradient 계산\n",
    "    dw = 1/N * 2 * x.T.dot(y_pred - y)\n",
    "        \n",
    "    # b의 gradient 계산\n",
    "    db = 2 * (y_pred - y).mean()\n",
    "    return dw, db"
   ]
  },
  {
   "cell_type": "code",
   "execution_count": 60,
   "metadata": {},
   "outputs": [],
   "source": [
    "# (8) 하이퍼 파라미터인 학습률 설정하기\n",
    "\n",
    "LEARNING_RATE = 0.5"
   ]
  },
  {
   "cell_type": "code",
   "execution_count": 61,
   "metadata": {},
   "outputs": [
    {
     "data": {
      "text/plain": [
       "(array([0.00685136, 0.7131026 , 0.29345094, 0.39327789, 0.41997817,\n",
       "        0.69903819, 0.0390105 , 0.78970211, 0.95099838, 0.91194296]),\n",
       " 0.4066861299699662)"
      ]
     },
     "execution_count": 61,
     "metadata": {},
     "output_type": "execute_result"
    }
   ],
   "source": [
    "# (9) 모델 학습하기\n",
    "\n",
    "w = np.random.rand(10)\n",
    "b = np.random.rand()\n",
    "\n",
    "w,b"
   ]
  },
  {
   "cell_type": "code",
   "execution_count": 62,
   "metadata": {},
   "outputs": [
    {
     "name": "stdout",
     "output_type": "stream",
     "text": [
      "Iteration 100 : Loss 3971.7349, \n",
      "3926.1548178410753\n",
      "Iteration 200 : Loss 3452.8039, \n",
      "3339.0513723006784\n",
      "Iteration 300 : Loss 3238.8376, \n",
      "3111.4449974212885\n",
      "Iteration 400 : Loss 3121.5144, \n",
      "2999.750285340361\n",
      "Iteration 500 : Loss 3049.3902, \n",
      "2939.1419947287463\n",
      "Iteration 600 : Loss 3003.3187, \n",
      "2905.1027517495613\n",
      "Iteration 700 : Loss 2973.4343, \n",
      "2885.7620806049194\n",
      "Iteration 800 : Loss 2953.8634, \n",
      "2874.690773144654\n",
      "Iteration 900 : Loss 2940.9351, \n",
      "2868.2599460585106\n",
      "Iteration 1000 : Loss 2932.3152, \n",
      "2864.3960018597327\n",
      "Iteration 1100 : Loss 2926.5074, \n",
      "2861.9161294283354\n",
      "Iteration 1200 : Loss 2922.5466, \n",
      "2860.153926078706\n",
      "Iteration 1300 : Loss 2919.8070, \n",
      "2858.7429951392282\n",
      "Iteration 1400 : Loss 2917.8809, \n",
      "2857.49020199235\n",
      "Iteration 1500 : Loss 2916.5007, \n",
      "2856.301020314686\n",
      "Iteration 1600 : Loss 2915.4899, \n",
      "2855.1355829779636\n",
      "Iteration 1700 : Loss 2914.7315, \n",
      "2853.9829848164554\n",
      "Iteration 1800 : Loss 2914.1470, \n",
      "2852.8464709931477\n",
      "Iteration 1900 : Loss 2913.6836, \n",
      "2851.735107623456\n",
      "Iteration 2000 : Loss 2913.3054, \n",
      "2850.6592865945054\n",
      "Iteration 2100 : Loss 2912.9879, \n",
      "2849.6284689836107\n",
      "Iteration 2200 : Loss 2912.7141, \n",
      "2848.650207563638\n",
      "Iteration 2300 : Loss 2912.4720, \n",
      "2847.7298749862443\n",
      "Iteration 2400 : Loss 2912.2533, \n",
      "2846.870758848817\n",
      "Iteration 2500 : Loss 2912.0519, \n",
      "2846.07432711031\n",
      "Iteration 2600 : Loss 2911.8637, \n",
      "2845.3405530993273\n",
      "Iteration 2700 : Loss 2911.6855, \n",
      "2844.6682405762936\n",
      "Iteration 2800 : Loss 2911.5150, \n",
      "2844.055319427803\n",
      "Iteration 2900 : Loss 2911.3504, \n",
      "2843.4990998652956\n",
      "Iteration 3000 : Loss 2911.1905, \n",
      "2842.9964825677375\n",
      "Iteration 3100 : Loss 2911.0345, \n",
      "2842.544127179002\n",
      "Iteration 3200 : Loss 2910.8814, \n",
      "2842.138583859264\n",
      "Iteration 3300 : Loss 2910.7309, \n",
      "2841.776393358863\n",
      "Iteration 3400 : Loss 2910.5824, \n",
      "2841.454161031136\n",
      "Iteration 3500 : Loss 2910.4356, \n",
      "2841.1686097410725\n",
      "Iteration 3600 : Loss 2910.2903, \n",
      "2840.9166159978076\n",
      "Iteration 3700 : Loss 2910.1463, \n",
      "2840.6952329740343\n",
      "Iteration 3800 : Loss 2910.0034, \n",
      "2840.5017034439397\n",
      "Iteration 3900 : Loss 2909.8616, \n",
      "2840.333465105793\n",
      "Iteration 4000 : Loss 2909.7206, \n",
      "2840.188150267312\n",
      "Iteration 4100 : Loss 2909.5805, \n",
      "2840.0635814611046\n",
      "Iteration 4200 : Loss 2909.4411, \n",
      "2839.9577642179356\n",
      "Iteration 4300 : Loss 2909.3025, \n",
      "2839.8688779487725\n",
      "Iteration 4400 : Loss 2909.1646, \n",
      "2839.795265663527\n",
      "Iteration 4500 : Loss 2909.0273, \n",
      "2839.7354230762767\n",
      "Iteration 4600 : Loss 2908.8906, \n",
      "2839.687987505786\n",
      "Iteration 4700 : Loss 2908.7545, \n",
      "2839.65172686946\n",
      "Iteration 4800 : Loss 2908.6190, \n",
      "2839.625528982602\n",
      "Iteration 4900 : Loss 2908.4841, \n",
      "2839.6083913082357\n",
      "Iteration 5000 : Loss 2908.3498, \n",
      "2839.599411251735\n"
     ]
    }
   ],
   "source": [
    "losses = []\n",
    "\n",
    "for i in range(1, 5001):\n",
    "    dw, db = gradient(X_train, w, b, y_train)\n",
    "    w -= LEARNING_RATE * dw\n",
    "    b -= LEARNING_RATE * db\n",
    "    L = loss(X_train, w, b, y_train)\n",
    "    losses.append(L)\n",
    "    if i % 100 == 0:\n",
    "        print('Iteration %d : Loss %0.4f, ' % (i, L))\n",
    "        prediction = model(X_test, w, b)\n",
    "        mse = MSE(prediction, y_test)\n",
    "        print(mse)"
   ]
  },
  {
   "cell_type": "code",
   "execution_count": 63,
   "metadata": {},
   "outputs": [
    {
     "name": "stdout",
     "output_type": "stream",
     "text": [
      "2839.599411251735\n"
     ]
    },
    {
     "data": {
      "image/png": "[encoded data removed]",
      "text/plain": [
       "<Figure size 640x480 with 1 Axes>"
      ]
     },
     "metadata": {},
     "output_type": "display_data"
    },
    {
     "name": "stdout",
     "output_type": "stream",
     "text": [
      "[ -31.65396874 -254.31082135  551.21630479  274.00810284 -156.49118398\n",
      "  -73.73408958 -204.10584283  143.36728373  462.53450101  118.75312024] 151.35078272972055\n"
     ]
    }
   ],
   "source": [
    "# (10) test 데이터에 대한 성능 확인하기\n",
    "import matplotlib.pyplot as plt\n",
    "\n",
    "prediction = model(X_test, w, b)\n",
    "print(loss(X_test, w, b, y_test))\n",
    "plt.plot(losses)\n",
    "plt.show()\n",
    "print(w, b)"
   ]
  },
  {
   "cell_type": "code",
   "execution_count": 64,
   "metadata": {},
   "outputs": [
    {
     "data": {
      "image/png": "[encoded data removed]",
      "text/plain": [
       "<Figure size 640x480 with 1 Axes>"
      ]
     },
     "metadata": {},
     "output_type": "display_data"
    }
   ],
   "source": [
    "# (11) 정답 데이터와 예측한 데이터 시각화하기\n",
    "# plt.plot(prediction, c=\"r\")\n",
    "\n",
    "plt.scatter(X_test[:, 0], y_test)\n",
    "plt.scatter(X_test[:, 0], prediction)\n",
    "plt.show()"
   ]
  }
 ],
 "metadata": {
  "kernelspec": {
   "display_name": "aiffel",
   "language": "python",
   "name": "python3"
  },
  "language_info": {
   "codemirror_mode": {
    "name": "ipython",
    "version": 3
   },
   "file_extension": ".py",
   "mimetype": "text/x-python",
   "name": "python",
   "nbconvert_exporter": "python",
   "pygments_lexer": "ipython3",
   "version": "3.9.16"
  },
  "orig_nbformat": 4
 },
 "nbformat": 4,
 "nbformat_minor": 2
}
