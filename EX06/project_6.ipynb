{
 "cells": [
  {
   "cell_type": "code",
   "execution_count": 1,
   "id": "771d3546",
   "metadata": {},
   "outputs": [],
   "source": [
    "from importlib.metadata import version\n",
    "import nltk\n",
    "import tensorflow\n",
    "import summa\n",
    "import pandas as pd\n",
    "import os"
   ]
  },
  {
   "cell_type": "code",
   "execution_count": 2,
   "id": "c2c45c87",
   "metadata": {},
   "outputs": [],
   "source": [
    "import urllib.request\n",
    "urllib.request.urlretrieve(\"https://raw.githubusercontent.com/sunnysai12345/News_Summary/master/news_summary_more.csv\", filename=\"news_summary_more.csv\")\n",
    "data = pd.read_csv('news_summary_more.csv', encoding='iso-8859-1')"
   ]
  },
  {
   "cell_type": "code",
   "execution_count": 6,
   "id": "302a1c23",
   "metadata": {},
   "outputs": [],
   "source": [
    "# data_link = os.getenv(\"HOME\") + \"/news_summary_more.csv\"\n",
    "data_link = \"news_summary_more.csv\"\n",
    "data = pd.read_csv(data_link, encoding='iso-8859-1')"
   ]
  },
  {
   "cell_type": "code",
   "execution_count": 7,
   "id": "ff68d1ea",
   "metadata": {},
   "outputs": [
    {
     "data": {
      "text/html": [
       "<div>\n",
       "<style scoped>\n",
       "    .dataframe tbody tr th:only-of-type {\n",
       "        vertical-align: middle;\n",
       "    }\n",
       "\n",
       "    .dataframe tbody tr th {\n",
       "        vertical-align: top;\n",
       "    }\n",
       "\n",
       "    .dataframe thead th {\n",
       "        text-align: right;\n",
       "    }\n",
       "</style>\n",
       "<table border=\"1\" class=\"dataframe\">\n",
       "  <thead>\n",
       "    <tr style=\"text-align: right;\">\n",
       "      <th></th>\n",
       "      <th>headlines</th>\n",
       "      <th>text</th>\n",
       "    </tr>\n",
       "  </thead>\n",
       "  <tbody>\n",
       "    <tr>\n",
       "      <th>0</th>\n",
       "      <td>upGrad learner switches to career in ML &amp; Al w...</td>\n",
       "      <td>Saurav Kant, an alumnus of upGrad and IIIT-B's...</td>\n",
       "    </tr>\n",
       "    <tr>\n",
       "      <th>1</th>\n",
       "      <td>Delhi techie wins free food from Swiggy for on...</td>\n",
       "      <td>Kunal Shah's credit card bill payment platform...</td>\n",
       "    </tr>\n",
       "    <tr>\n",
       "      <th>2</th>\n",
       "      <td>New Zealand end Rohit Sharma-led India's 12-ma...</td>\n",
       "      <td>New Zealand defeated India by 8 wickets in the...</td>\n",
       "    </tr>\n",
       "    <tr>\n",
       "      <th>3</th>\n",
       "      <td>Aegon life iTerm insurance plan helps customer...</td>\n",
       "      <td>With Aegon Life iTerm Insurance plan, customer...</td>\n",
       "    </tr>\n",
       "    <tr>\n",
       "      <th>4</th>\n",
       "      <td>Have known Hirani for yrs, what if MeToo claim...</td>\n",
       "      <td>Speaking about the sexual harassment allegatio...</td>\n",
       "    </tr>\n",
       "  </tbody>\n",
       "</table>\n",
       "</div>"
      ],
      "text/plain": [
       "                                           headlines  \\\n",
       "0  upGrad learner switches to career in ML & Al w...   \n",
       "1  Delhi techie wins free food from Swiggy for on...   \n",
       "2  New Zealand end Rohit Sharma-led India's 12-ma...   \n",
       "3  Aegon life iTerm insurance plan helps customer...   \n",
       "4  Have known Hirani for yrs, what if MeToo claim...   \n",
       "\n",
       "                                                text  \n",
       "0  Saurav Kant, an alumnus of upGrad and IIIT-B's...  \n",
       "1  Kunal Shah's credit card bill payment platform...  \n",
       "2  New Zealand defeated India by 8 wickets in the...  \n",
       "3  With Aegon Life iTerm Insurance plan, customer...  \n",
       "4  Speaking about the sexual harassment allegatio...  "
      ]
     },
     "execution_count": 7,
     "metadata": {},
     "output_type": "execute_result"
    }
   ],
   "source": [
    "data.head(5)"
   ]
  },
  {
   "cell_type": "markdown",
   "id": "f3ecdc71",
   "metadata": {},
   "source": [
    "# Step 2. 데이터 전처리하기 (추상적 요약)"
   ]
  },
  {
   "cell_type": "code",
   "execution_count": 8,
   "id": "850e1152",
   "metadata": {},
   "outputs": [
    {
     "data": {
      "text/plain": [
       "98401"
      ]
     },
     "execution_count": 8,
     "metadata": {},
     "output_type": "execute_result"
    }
   ],
   "source": [
    "len(data)"
   ]
  },
  {
   "cell_type": "markdown",
   "id": "46375b62",
   "metadata": {},
   "source": [
    "### 중복, null 확인후 제거"
   ]
  },
  {
   "cell_type": "code",
   "execution_count": 10,
   "id": "8fdb8b3c",
   "metadata": {},
   "outputs": [
    {
     "name": "stdout",
     "output_type": "stream",
     "text": [
      "text 열에서 중복을 배제한 유일한 샘플의 수 : 98360\n",
      "headlines 열에서 중복을 배제한 유일한 샘플의 수 : 98280\n"
     ]
    }
   ],
   "source": [
    "print('text 열에서 중복을 배제한 유일한 샘플의 수 :', data['text'].nunique())\n",
    "print('headlines 열에서 중복을 배제한 유일한 샘플의 수 :', data['headlines'].nunique())"
   ]
  },
  {
   "cell_type": "code",
   "execution_count": 14,
   "id": "3dc2805d",
   "metadata": {},
   "outputs": [
    {
     "name": "stdout",
     "output_type": "stream",
     "text": [
      "전체 샘플수 : 98360\n"
     ]
    }
   ],
   "source": [
    "# inplace=True 를 설정하면 DataFrame 타입 값을 return 하지 않고 data 내부를 직접적으로 바꿉니다\n",
    "data.drop_duplicates(subset = ['text'], inplace=True)\n",
    "print('전체 샘플수 :', (len(data)))"
   ]
  },
  {
   "cell_type": "code",
   "execution_count": 15,
   "id": "3bc10f67",
   "metadata": {},
   "outputs": [
    {
     "name": "stdout",
     "output_type": "stream",
     "text": [
      "headlines    0\n",
      "text         0\n",
      "dtype: int64\n"
     ]
    }
   ],
   "source": [
    "print(data.isnull().sum())"
   ]
  },
  {
   "cell_type": "markdown",
   "id": "5a677da8",
   "metadata": {},
   "source": [
    "### 텍스트 정규화와 불용어 제거"
   ]
  },
  {
   "cell_type": "code",
   "execution_count": 16,
   "id": "01f44e69",
   "metadata": {},
   "outputs": [
    {
     "name": "stdout",
     "output_type": "stream",
     "text": [
      "정규화 사전의 수:  120\n"
     ]
    }
   ],
   "source": [
    "contractions = {\"ain't\": \"is not\", \"aren't\": \"are not\",\"can't\": \"cannot\", \"'cause\": \"because\", \"could've\": \"could have\", \"couldn't\": \"could not\",\n",
    "                           \"didn't\": \"did not\",  \"doesn't\": \"does not\", \"don't\": \"do not\", \"hadn't\": \"had not\", \"hasn't\": \"has not\", \"haven't\": \"have not\",\n",
    "                           \"he'd\": \"he would\",\"he'll\": \"he will\", \"he's\": \"he is\", \"how'd\": \"how did\", \"how'd'y\": \"how do you\", \"how'll\": \"how will\", \"how's\": \"how is\",\n",
    "                           \"I'd\": \"I would\", \"I'd've\": \"I would have\", \"I'll\": \"I will\", \"I'll've\": \"I will have\",\"I'm\": \"I am\", \"I've\": \"I have\", \"i'd\": \"i would\",\n",
    "                           \"i'd've\": \"i would have\", \"i'll\": \"i will\",  \"i'll've\": \"i will have\",\"i'm\": \"i am\", \"i've\": \"i have\", \"isn't\": \"is not\", \"it'd\": \"it would\",\n",
    "                           \"it'd've\": \"it would have\", \"it'll\": \"it will\", \"it'll've\": \"it will have\",\"it's\": \"it is\", \"let's\": \"let us\", \"ma'am\": \"madam\",\n",
    "                           \"mayn't\": \"may not\", \"might've\": \"might have\",\"mightn't\": \"might not\",\"mightn't've\": \"might not have\", \"must've\": \"must have\",\n",
    "                           \"mustn't\": \"must not\", \"mustn't've\": \"must not have\", \"needn't\": \"need not\", \"needn't've\": \"need not have\",\"o'clock\": \"of the clock\",\n",
    "                           \"oughtn't\": \"ought not\", \"oughtn't've\": \"ought not have\", \"shan't\": \"shall not\", \"sha'n't\": \"shall not\", \"shan't've\": \"shall not have\",\n",
    "                           \"she'd\": \"she would\", \"she'd've\": \"she would have\", \"she'll\": \"she will\", \"she'll've\": \"she will have\", \"she's\": \"she is\",\n",
    "                           \"should've\": \"should have\", \"shouldn't\": \"should not\", \"shouldn't've\": \"should not have\", \"so've\": \"so have\",\"so's\": \"so as\",\n",
    "                           \"this's\": \"this is\",\"that'd\": \"that would\", \"that'd've\": \"that would have\", \"that's\": \"that is\", \"there'd\": \"there would\",\n",
    "                           \"there'd've\": \"there would have\", \"there's\": \"there is\", \"here's\": \"here is\",\"they'd\": \"they would\", \"they'd've\": \"they would have\",\n",
    "                           \"they'll\": \"they will\", \"they'll've\": \"they will have\", \"they're\": \"they are\", \"they've\": \"they have\", \"to've\": \"to have\",\n",
    "                           \"wasn't\": \"was not\", \"we'd\": \"we would\", \"we'd've\": \"we would have\", \"we'll\": \"we will\", \"we'll've\": \"we will have\", \"we're\": \"we are\",\n",
    "                           \"we've\": \"we have\", \"weren't\": \"were not\", \"what'll\": \"what will\", \"what'll've\": \"what will have\", \"what're\": \"what are\",\n",
    "                           \"what's\": \"what is\", \"what've\": \"what have\", \"when's\": \"when is\", \"when've\": \"when have\", \"where'd\": \"where did\", \"where's\": \"where is\",\n",
    "                           \"where've\": \"where have\", \"who'll\": \"who will\", \"who'll've\": \"who will have\", \"who's\": \"who is\", \"who've\": \"who have\",\n",
    "                           \"why's\": \"why is\", \"why've\": \"why have\", \"will've\": \"will have\", \"won't\": \"will not\", \"won't've\": \"will not have\",\n",
    "                           \"would've\": \"would have\", \"wouldn't\": \"would not\", \"wouldn't've\": \"would not have\", \"y'all\": \"you all\",\n",
    "                           \"y'all'd\": \"you all would\",\"y'all'd've\": \"you all would have\",\"y'all're\": \"you all are\",\"y'all've\": \"you all have\",\n",
    "                           \"you'd\": \"you would\", \"you'd've\": \"you would have\", \"you'll\": \"you will\", \"you'll've\": \"you will have\",\n",
    "                           \"you're\": \"you are\", \"you've\": \"you have\"}\n",
    "\n",
    "print(\"정규화 사전의 수: \", len(contractions))"
   ]
  },
  {
   "cell_type": "code",
   "execution_count": 17,
   "id": "bfe4f07d",
   "metadata": {},
   "outputs": [
    {
     "name": "stdout",
     "output_type": "stream",
     "text": [
      "불용어 개수 : 179\n",
      "['i', 'me', 'my', 'myself', 'we', 'our', 'ours', 'ourselves', 'you', \"you're\", \"you've\", \"you'll\", \"you'd\", 'your', 'yours', 'yourself', 'yourselves', 'he', 'him', 'his', 'himself', 'she', \"she's\", 'her', 'hers', 'herself', 'it', \"it's\", 'its', 'itself', 'they', 'them', 'their', 'theirs', 'themselves', 'what', 'which', 'who', 'whom', 'this', 'that', \"that'll\", 'these', 'those', 'am', 'is', 'are', 'was', 'were', 'be', 'been', 'being', 'have', 'has', 'had', 'having', 'do', 'does', 'did', 'doing', 'a', 'an', 'the', 'and', 'but', 'if', 'or', 'because', 'as', 'until', 'while', 'of', 'at', 'by', 'for', 'with', 'about', 'against', 'between', 'into', 'through', 'during', 'before', 'after', 'above', 'below', 'to', 'from', 'up', 'down', 'in', 'out', 'on', 'off', 'over', 'under', 'again', 'further', 'then', 'once', 'here', 'there', 'when', 'where', 'why', 'how', 'all', 'any', 'both', 'each', 'few', 'more', 'most', 'other', 'some', 'such', 'no', 'nor', 'not', 'only', 'own', 'same', 'so', 'than', 'too', 'very', 's', 't', 'can', 'will', 'just', 'don', \"don't\", 'should', \"should've\", 'now', 'd', 'll', 'm', 'o', 're', 've', 'y', 'ain', 'aren', \"aren't\", 'couldn', \"couldn't\", 'didn', \"didn't\", 'doesn', \"doesn't\", 'hadn', \"hadn't\", 'hasn', \"hasn't\", 'haven', \"haven't\", 'isn', \"isn't\", 'ma', 'mightn', \"mightn't\", 'mustn', \"mustn't\", 'needn', \"needn't\", 'shan', \"shan't\", 'shouldn', \"shouldn't\", 'wasn', \"wasn't\", 'weren', \"weren't\", 'won', \"won't\", 'wouldn', \"wouldn't\"]\n"
     ]
    },
    {
     "name": "stderr",
     "output_type": "stream",
     "text": [
      "[nltk_data] Downloading package stopwords to /aiffel/nltk_data...\n",
      "[nltk_data]   Unzipping corpora/stopwords.zip.\n"
     ]
    }
   ],
   "source": [
    "import numpy as np\n",
    "from bs4 import BeautifulSoup \n",
    "from tensorflow.keras.preprocessing.text import Tokenizer \n",
    "from tensorflow.keras.preprocessing.sequence import pad_sequences\n",
    "nltk.download('stopwords')\n",
    "from nltk.corpus import stopwords\n",
    "\n",
    "print('불용어 개수 :', len(stopwords.words('english') ))\n",
    "print(stopwords.words('english'))"
   ]
  },
  {
   "cell_type": "code",
   "execution_count": 22,
   "id": "28479e8b",
   "metadata": {},
   "outputs": [],
   "source": [
    "import re"
   ]
  },
  {
   "cell_type": "code",
   "execution_count": 20,
   "id": "4582d500",
   "metadata": {},
   "outputs": [],
   "source": [
    "# 데이터 전처리 함수\n",
    "def preprocess_sentence(sentence, remove_stopwords=True):\n",
    "    sentence = sentence.lower() # 텍스트 소문자화\n",
    "    sentence = BeautifulSoup(sentence, \"lxml\").text # <br />, <a href = ...> 등의 html 태그 제거\n",
    "    sentence = re.sub(r'\\([^)]*\\)', '', sentence) # 괄호로 닫힌 문자열 (...) 제거 Ex) my husband (and myself!) for => my husband for\n",
    "    sentence = re.sub('\"','', sentence) # 쌍따옴표 \" 제거\n",
    "    sentence = ' '.join([contractions[t] if t in contractions else t for t in sentence.split(\" \")]) # 약어 정규화\n",
    "    sentence = re.sub(r\"'s\\b\",\"\", sentence) # 소유격 제거. Ex) roland's -> roland\n",
    "    sentence = re.sub(\"[^a-zA-Z]\", \" \", sentence) # 영어 외 문자(숫자, 특수문자 등) 공백으로 변환\n",
    "    sentence = re.sub('[m]{2,}', 'mm', sentence) # m이 3개 이상이면 2개로 변경. Ex) ummmmmmm yeah -> umm yeah\n",
    "    \n",
    "    # 불용어 제거 (Text)\n",
    "    if remove_stopwords:\n",
    "        tokens = ' '.join(word for word in sentence.split() if not word in stopwords.words('english') if len(word) > 1)\n",
    "    # 불용어 미제거 (Summary)\n",
    "    else:\n",
    "        tokens = ' '.join(word for word in sentence.split() if len(word) > 1)\n",
    "    return tokens"
   ]
  },
  {
   "cell_type": "code",
   "execution_count": null,
   "id": "aca93c07",
   "metadata": {},
   "outputs": [],
   "source": [
    "temp_text = 'Everything I bought was great, infact I ordered twice and the third ordered was<br />for my mother and father.'\n",
    "temp_summary = 'Great way to start (or finish) the day!!!'\n",
    "\n",
    "print(\"text: \", preprocess_sentence(temp_text))\n",
    "print(\"summary:\", preprocess_sentence(temp_summary, False))  # 불용어를 제거하지 않습니다."
   ]
  },
  {
   "cell_type": "code",
   "execution_count": 23,
   "id": "2e4512af",
   "metadata": {},
   "outputs": [
    {
     "name": "stdout",
     "output_type": "stream",
     "text": [
      "10000번 째 반복중\n",
      "20000번 째 반복중\n",
      "30000번 째 반복중\n",
      "40000번 째 반복중\n",
      "50000번 째 반복중\n",
      "60000번 째 반복중\n",
      "70000번 째 반복중\n",
      "80000번 째 반복중\n",
      "90000번 째 반복중\n",
      "Text 전처리 후 결과:  ['saurav kant alumnus upgrad iiit pg program machine learning artificial intelligence sr systems engineer infosys almost years work experience program upgrad degree career support helped transition data scientist tech mahindra salary hike upgrad online power learning powered lakh careers', 'kunal shah credit card bill payment platform cred gave users chance win free food swiggy one year pranav kaushik delhi techie bagged reward spending cred coins users get one cred coin per rupee bill paid used avail rewards brands like ixigo bookmyshow ubereats cult fit', 'new zealand defeated india wickets fourth odi hamilton thursday win first match five match odi series india lost international match rohit sharma captaincy consecutive victories dating back march match witnessed india getting seventh lowest total odi cricket history', 'aegon life iterm insurance plan customers enjoy tax benefits premiums paid save taxes plan provides life cover age years also customers options insure critical illnesses disability accidental death benefit rider life cover age years', 'speaking sexual harassment allegations rajkumar hirani sonam kapoor said known hirani many years true metoo movement get derailed metoo movement always believe woman case need reserve judgment added hirani accused assistant worked sanju']\n"
     ]
    }
   ],
   "source": [
    "# 전체 Text 데이터에 대한 전처리 : 10분 이상 시간이 걸릴 수 있습니다. \n",
    "clean_text = []\n",
    "# 인덱스 초기화\n",
    "data.reset_index(drop=True, inplace=True)\n",
    "\n",
    "# [[YOUR CODE]]\n",
    "for i in range(0, len(data)):\n",
    "    sen_data = preprocess_sentence(data[\"text\"][i])\n",
    "    clean_text.append(sen_data)\n",
    "    if i / 10000 in list(range(1,10)):\n",
    "        print(f\"{i}번 째 반복중\")\n",
    "# 전처리 후 출력\n",
    "print(\"Text 전처리 후 결과: \", clean_text[:5])"
   ]
  },
  {
   "cell_type": "code",
   "execution_count": 24,
   "id": "a2c3ecd1",
   "metadata": {},
   "outputs": [
    {
     "name": "stdout",
     "output_type": "stream",
     "text": [
      "10000번 째 반복중\n",
      "20000번 째 반복중\n",
      "30000번 째 반복중\n",
      "40000번 째 반복중\n",
      "50000번 째 반복중\n",
      "60000번 째 반복중\n",
      "70000번 째 반복중\n",
      "80000번 째 반복중\n",
      "90000번 째 반복중\n",
      "Summary 전처리 후 결과:  ['upgrad learner switches career ml al salary hike', 'delhi techie wins free food swiggy one year cred', 'new zealand end rohit sharma led india match winning streak', 'aegon life iterm insurance plan helps customers save tax', 'known hirani yrs metoo claims true sonam']\n"
     ]
    }
   ],
   "source": [
    "# 전체 Summary 데이터에 대한 전처리 : 5분 이상 시간이 걸릴 수 있습니다. \n",
    "clean_headlines = []\n",
    "\n",
    "for i in range(0, len(data)):\n",
    "    sen_data = preprocess_sentence(data[\"headlines\"][i])\n",
    "    clean_headlines.append(sen_data)\n",
    "    if i / 10000 in list(range(1,10)):\n",
    "        print(f\"{i}번 째 반복중\")\n",
    "print(\"Summary 전처리 후 결과: \", clean_headlines[:5])"
   ]
  },
  {
   "cell_type": "code",
   "execution_count": 26,
   "id": "b7b3c5b8",
   "metadata": {},
   "outputs": [
    {
     "data": {
      "text/plain": [
       "headlines    0\n",
       "text         0\n",
       "dtype: int64"
      ]
     },
     "execution_count": 26,
     "metadata": {},
     "output_type": "execute_result"
    }
   ],
   "source": [
    "data['text'] = clean_text\n",
    "data['headlines'] = clean_headlines\n",
    "\n",
    "# 빈 값을 Null 값으로 변환\n",
    "data.replace('', np.nan, inplace=True)\n",
    "             \n",
    "data.isnull().sum()"
   ]
  },
  {
   "cell_type": "markdown",
   "id": "b1dcff47",
   "metadata": {},
   "source": [
    "### 샘플의 최대 길이 정하기"
   ]
  },
  {
   "cell_type": "code",
   "execution_count": 28,
   "id": "43b845b6",
   "metadata": {},
   "outputs": [
    {
     "name": "stdout",
     "output_type": "stream",
     "text": [
      "텍스트의 최소 길이 : 1\n",
      "텍스트의 최대 길이 : 60\n",
      "텍스트의 평균 길이 : 35.09968483123221\n",
      "요약의 최소 길이 : 1\n",
      "요약의 최대 길이 : 13\n",
      "요약의 평균 길이 : 7.136183407889386\n"
     ]
    },
    {
     "data": {
      "image/png": "[encoded data removed]",
      "text/plain": [
       "<Figure size 432x288 with 2 Axes>"
      ]
     },
     "metadata": {
      "needs_background": "light"
     },
     "output_type": "display_data"
    },
    {
     "data": {
      "image/png": "[encoded data removed]",
      "text/plain": [
       "<Figure size 432x288 with 1 Axes>"
      ]
     },
     "metadata": {
      "needs_background": "light"
     },
     "output_type": "display_data"
    },
    {
     "data": {
      "image/png": "[encoded data removed]",
      "text/plain": [
       "<Figure size 432x288 with 1 Axes>"
      ]
     },
     "metadata": {
      "needs_background": "light"
     },
     "output_type": "display_data"
    }
   ],
   "source": [
    "# 길이 분포 출력\n",
    "import matplotlib.pyplot as plt\n",
    "\n",
    "text_len = [len(s.split()) for s in data['text']]\n",
    "headlines_len = [len(s.split()) for s in data['headlines']]\n",
    "\n",
    "print('텍스트의 최소 길이 : {}'.format(np.min(text_len)))\n",
    "print('텍스트의 최대 길이 : {}'.format(np.max(text_len)))\n",
    "print('텍스트의 평균 길이 : {}'.format(np.mean(text_len)))\n",
    "print('요약의 최소 길이 : {}'.format(np.min(headlines_len)))\n",
    "print('요약의 최대 길이 : {}'.format(np.max(headlines_len)))\n",
    "print('요약의 평균 길이 : {}'.format(np.mean(headlines_len)))\n",
    "\n",
    "plt.subplot(1,2,1)\n",
    "plt.boxplot(text_len)\n",
    "plt.title('Text')\n",
    "plt.subplot(1,2,2)\n",
    "plt.boxplot(headlines_len)\n",
    "plt.title('headlines_len')\n",
    "plt.tight_layout()\n",
    "plt.show()\n",
    "\n",
    "plt.title('Text')\n",
    "plt.hist(text_len, bins = 40)\n",
    "plt.xlabel('length of samples')\n",
    "plt.ylabel('number of samples')\n",
    "plt.show()\n",
    "\n",
    "plt.title('headlines')\n",
    "plt.hist(headlines_len, bins = 40)\n",
    "plt.xlabel('length of samples')\n",
    "plt.ylabel('number of samples')\n",
    "plt.show()"
   ]
  },
  {
   "cell_type": "code",
   "execution_count": 33,
   "id": "6696117b",
   "metadata": {},
   "outputs": [],
   "source": [
    "text_max_len = 50\n",
    "headlines_max_len = 8"
   ]
  },
  {
   "cell_type": "code",
   "execution_count": 34,
   "id": "0cb310cb",
   "metadata": {},
   "outputs": [],
   "source": [
    "def below_threshold_len(max_len, nested_list):\n",
    "  cnt = 0\n",
    "  for s in nested_list:\n",
    "    if(len(s.split()) <= max_len):\n",
    "        cnt = cnt + 1\n",
    "  print('전체 샘플 중 길이가 %s 이하인 샘플의 비율: %s'%(max_len, (cnt / len(nested_list))))"
   ]
  },
  {
   "cell_type": "code",
   "execution_count": 35,
   "id": "8c8ee109",
   "metadata": {},
   "outputs": [
    {
     "name": "stdout",
     "output_type": "stream",
     "text": [
      "전체 샘플 중 길이가 50 이하인 샘플의 비율: 0.9998576657177715\n",
      "전체 샘플 중 길이가 8 이하인 샘플의 비율: 0.8925782838552258\n"
     ]
    }
   ],
   "source": [
    "below_threshold_len(text_max_len, data['text'])\n",
    "below_threshold_len(headlines_max_len,  data['headlines'])"
   ]
  },
  {
   "cell_type": "code",
   "execution_count": 36,
   "id": "e18ba8c4",
   "metadata": {},
   "outputs": [
    {
     "name": "stdout",
     "output_type": "stream",
     "text": [
      "                                               headlines  \\\n",
      "0       upgrad learner switches career ml al salary hike   \n",
      "4               known hirani yrs metoo claims true sonam   \n",
      "6                 india get lowest odi total new zealand   \n",
      "7       govt directs alok verma join work day retirement   \n",
      "9      cong wins ramgarh bypoll rajasthan takes total...   \n",
      "...                                                  ...   \n",
      "98354  pakistan starts building fence along afghanist...   \n",
      "98355         crpf jawan axed death maoists chhattisgarh   \n",
      "98356      first song sonakshi sinha noor titled uff yeh   \n",
      "98357                     matrix film get reboot reports   \n",
      "98359  madhesi morcha withdraws support nepalese gove...   \n",
      "\n",
      "                                                    text  \n",
      "0      saurav kant alumnus upgrad iiit pg program mac...  \n",
      "4      speaking sexual harassment allegations rajkuma...  \n",
      "6      india recorded lowest odi total new zealand ge...  \n",
      "7      weeks ex cbi director alok verma told departme...  \n",
      "9      congress candidate shafia zubair ramgarh assem...  \n",
      "...                                                  ...  \n",
      "98354  pakistan started building nearly kilometer fen...  \n",
      "98355  crpf jawan tuesday axed death sharp edged weap...  \n",
      "98356  uff yeh first song sonakshi sinha starrer upco...  \n",
      "98357  according reports new version science fiction ...  \n",
      "98359  madhesi morcha alliance seven political partie...  \n",
      "\n",
      "[87787 rows x 2 columns]\n",
      "전체 샘플수 : 87787\n"
     ]
    }
   ],
   "source": [
    "data_t = data # 혹시모를 데이터 복사\n",
    "data = data[(data['text'].apply(lambda x: len(x.split()) <= text_max_len)) & (data['headlines'].apply(lambda x: len(x.split()) <= headlines_max_len))]\n",
    "print(data)\n",
    "print('전체 샘플수 :', (len(data)))"
   ]
  },
  {
   "cell_type": "markdown",
   "id": "6accc877",
   "metadata": {},
   "source": [
    "### 시작 토큰과 종료 토큰 추가"
   ]
  },
  {
   "cell_type": "code",
   "execution_count": 37,
   "id": "37e0a505",
   "metadata": {},
   "outputs": [
    {
     "name": "stderr",
     "output_type": "stream",
     "text": [
      "/tmp/ipykernel_31/4081104566.py:2: SettingWithCopyWarning: \n",
      "A value is trying to be set on a copy of a slice from a DataFrame.\n",
      "Try using .loc[row_indexer,col_indexer] = value instead\n",
      "\n",
      "See the caveats in the documentation: https://pandas.pydata.org/pandas-docs/stable/user_guide/indexing.html#returning-a-view-versus-a-copy\n",
      "  data['decoder_input'] = data['headlines'].apply(lambda x : 'sostoken '+ x)\n",
      "/tmp/ipykernel_31/4081104566.py:3: SettingWithCopyWarning: \n",
      "A value is trying to be set on a copy of a slice from a DataFrame.\n",
      "Try using .loc[row_indexer,col_indexer] = value instead\n",
      "\n",
      "See the caveats in the documentation: https://pandas.pydata.org/pandas-docs/stable/user_guide/indexing.html#returning-a-view-versus-a-copy\n",
      "  data['decoder_target'] = data['headlines'].apply(lambda x : x + ' eostoken')\n"
     ]
    },
    {
     "data": {
      "text/html": [
       "<div>\n",
       "<style scoped>\n",
       "    .dataframe tbody tr th:only-of-type {\n",
       "        vertical-align: middle;\n",
       "    }\n",
       "\n",
       "    .dataframe tbody tr th {\n",
       "        vertical-align: top;\n",
       "    }\n",
       "\n",
       "    .dataframe thead th {\n",
       "        text-align: right;\n",
       "    }\n",
       "</style>\n",
       "<table border=\"1\" class=\"dataframe\">\n",
       "  <thead>\n",
       "    <tr style=\"text-align: right;\">\n",
       "      <th></th>\n",
       "      <th>headlines</th>\n",
       "      <th>text</th>\n",
       "      <th>decoder_input</th>\n",
       "      <th>decoder_target</th>\n",
       "    </tr>\n",
       "  </thead>\n",
       "  <tbody>\n",
       "    <tr>\n",
       "      <th>0</th>\n",
       "      <td>upgrad learner switches career ml al salary hike</td>\n",
       "      <td>saurav kant alumnus upgrad iiit pg program mac...</td>\n",
       "      <td>sostoken upgrad learner switches career ml al ...</td>\n",
       "      <td>upgrad learner switches career ml al salary hi...</td>\n",
       "    </tr>\n",
       "    <tr>\n",
       "      <th>4</th>\n",
       "      <td>known hirani yrs metoo claims true sonam</td>\n",
       "      <td>speaking sexual harassment allegations rajkuma...</td>\n",
       "      <td>sostoken known hirani yrs metoo claims true sonam</td>\n",
       "      <td>known hirani yrs metoo claims true sonam eostoken</td>\n",
       "    </tr>\n",
       "    <tr>\n",
       "      <th>6</th>\n",
       "      <td>india get lowest odi total new zealand</td>\n",
       "      <td>india recorded lowest odi total new zealand ge...</td>\n",
       "      <td>sostoken india get lowest odi total new zealand</td>\n",
       "      <td>india get lowest odi total new zealand eostoken</td>\n",
       "    </tr>\n",
       "    <tr>\n",
       "      <th>7</th>\n",
       "      <td>govt directs alok verma join work day retirement</td>\n",
       "      <td>weeks ex cbi director alok verma told departme...</td>\n",
       "      <td>sostoken govt directs alok verma join work day...</td>\n",
       "      <td>govt directs alok verma join work day retireme...</td>\n",
       "    </tr>\n",
       "    <tr>\n",
       "      <th>9</th>\n",
       "      <td>cong wins ramgarh bypoll rajasthan takes total...</td>\n",
       "      <td>congress candidate shafia zubair ramgarh assem...</td>\n",
       "      <td>sostoken cong wins ramgarh bypoll rajasthan ta...</td>\n",
       "      <td>cong wins ramgarh bypoll rajasthan takes total...</td>\n",
       "    </tr>\n",
       "  </tbody>\n",
       "</table>\n",
       "</div>"
      ],
      "text/plain": [
       "                                           headlines  \\\n",
       "0   upgrad learner switches career ml al salary hike   \n",
       "4           known hirani yrs metoo claims true sonam   \n",
       "6             india get lowest odi total new zealand   \n",
       "7   govt directs alok verma join work day retirement   \n",
       "9  cong wins ramgarh bypoll rajasthan takes total...   \n",
       "\n",
       "                                                text  \\\n",
       "0  saurav kant alumnus upgrad iiit pg program mac...   \n",
       "4  speaking sexual harassment allegations rajkuma...   \n",
       "6  india recorded lowest odi total new zealand ge...   \n",
       "7  weeks ex cbi director alok verma told departme...   \n",
       "9  congress candidate shafia zubair ramgarh assem...   \n",
       "\n",
       "                                       decoder_input  \\\n",
       "0  sostoken upgrad learner switches career ml al ...   \n",
       "4  sostoken known hirani yrs metoo claims true sonam   \n",
       "6    sostoken india get lowest odi total new zealand   \n",
       "7  sostoken govt directs alok verma join work day...   \n",
       "9  sostoken cong wins ramgarh bypoll rajasthan ta...   \n",
       "\n",
       "                                      decoder_target  \n",
       "0  upgrad learner switches career ml al salary hi...  \n",
       "4  known hirani yrs metoo claims true sonam eostoken  \n",
       "6    india get lowest odi total new zealand eostoken  \n",
       "7  govt directs alok verma join work day retireme...  \n",
       "9  cong wins ramgarh bypoll rajasthan takes total...  "
      ]
     },
     "execution_count": 37,
     "metadata": {},
     "output_type": "execute_result"
    }
   ],
   "source": [
    "# 요약 데이터에는 시작 토큰과 종료 토큰을 추가한다.\n",
    "data['decoder_input'] = data['headlines'].apply(lambda x : 'sostoken '+ x)\n",
    "data['decoder_target'] = data['headlines'].apply(lambda x : x + ' eostoken')\n",
    "data.head()"
   ]
  },
  {
   "cell_type": "code",
   "execution_count": 38,
   "id": "a8b3ac2d",
   "metadata": {},
   "outputs": [],
   "source": [
    "encoder_input = np.array(data['text']) # 인코더의 입력\n",
    "decoder_input = np.array(data['decoder_input']) # 디코더의 입력\n",
    "decoder_target = np.array(data['decoder_target']) # 디코더의 레이블"
   ]
  },
  {
   "cell_type": "code",
   "execution_count": 39,
   "id": "49888cfa",
   "metadata": {},
   "outputs": [
    {
     "name": "stdout",
     "output_type": "stream",
     "text": [
      "[42029 42257 78275 ... 76831 49975  6587]\n"
     ]
    }
   ],
   "source": [
    "indices = np.arange(encoder_input.shape[0])\n",
    "np.random.shuffle(indices)\n",
    "print(indices)"
   ]
  },
  {
   "cell_type": "code",
   "execution_count": 40,
   "id": "9cd6baac",
   "metadata": {},
   "outputs": [],
   "source": [
    "encoder_input = encoder_input[indices]\n",
    "decoder_input = decoder_input[indices]\n",
    "decoder_target = decoder_target[indices]"
   ]
  },
  {
   "cell_type": "code",
   "execution_count": 41,
   "id": "b2469007",
   "metadata": {},
   "outputs": [
    {
     "name": "stdout",
     "output_type": "stream",
     "text": [
      "테스트 데이터의 수 : 17557\n"
     ]
    }
   ],
   "source": [
    "n_of_val = int(len(encoder_input)*0.2)\n",
    "print('테스트 데이터의 수 :', n_of_val)"
   ]
  },
  {
   "cell_type": "code",
   "execution_count": 42,
   "id": "a722deb2",
   "metadata": {},
   "outputs": [
    {
     "name": "stdout",
     "output_type": "stream",
     "text": [
      "훈련 데이터의 개수 : 70230\n",
      "훈련 레이블의 개수 : 70230\n",
      "테스트 데이터의 개수 : 17557\n",
      "테스트 레이블의 개수 : 17557\n"
     ]
    }
   ],
   "source": [
    "encoder_input_train = encoder_input[:-n_of_val]\n",
    "decoder_input_train = decoder_input[:-n_of_val]\n",
    "decoder_target_train = decoder_target[:-n_of_val]\n",
    "\n",
    "encoder_input_test = encoder_input[-n_of_val:]\n",
    "decoder_input_test = decoder_input[-n_of_val:]\n",
    "decoder_target_test = decoder_target[-n_of_val:]\n",
    "\n",
    "print('훈련 데이터의 개수 :', len(encoder_input_train))\n",
    "print('훈련 레이블의 개수 :', len(decoder_input_train))\n",
    "print('테스트 데이터의 개수 :', len(encoder_input_test))\n",
    "print('테스트 레이블의 개수 :', len(decoder_input_test))"
   ]
  },
  {
   "cell_type": "markdown",
   "id": "81d84b28",
   "metadata": {},
   "source": [
    "### 정수 인코딩"
   ]
  },
  {
   "cell_type": "code",
   "execution_count": 43,
   "id": "808efb1c",
   "metadata": {},
   "outputs": [],
   "source": [
    "src_tokenizer = Tokenizer() # 토크나이저 정의\n",
    "src_tokenizer.fit_on_texts(encoder_input_train) # 입력된 데이터로부터 단어 집합 생성"
   ]
  },
  {
   "cell_type": "code",
   "execution_count": 44,
   "id": "0e20f7bb",
   "metadata": {},
   "outputs": [
    {
     "name": "stdout",
     "output_type": "stream",
     "text": [
      "단어 집합(vocabulary)의 크기 : 66213\n",
      "등장 빈도가 6번 이하인 희귀 단어의 수: 45282\n",
      "단어 집합에서 희귀 단어를 제외시킬 경우의 단어 집합의 크기 20931\n",
      "단어 집합에서 희귀 단어의 비율: 68.38838294594717\n",
      "전체 등장 빈도에서 희귀 단어 등장 빈도 비율: 3.753184890678768\n"
     ]
    }
   ],
   "source": [
    "threshold = 7\n",
    "total_cnt = len(src_tokenizer.word_index) # 단어의 수\n",
    "rare_cnt = 0 # 등장 빈도수가 threshold보다 작은 단어의 개수를 카운트\n",
    "total_freq = 0 # 훈련 데이터의 전체 단어 빈도수 총 합\n",
    "rare_freq = 0 # 등장 빈도수가 threshold보다 작은 단어의 등장 빈도수의 총 합\n",
    "\n",
    "# 단어와 빈도수의 쌍(pair)을 key와 value로 받는다.\n",
    "for key, value in src_tokenizer.word_counts.items():\n",
    "    total_freq = total_freq + value\n",
    "\n",
    "    # 단어의 등장 빈도수가 threshold보다 작으면\n",
    "    if(value < threshold):\n",
    "        rare_cnt = rare_cnt + 1\n",
    "        rare_freq = rare_freq + value\n",
    "\n",
    "print('단어 집합(vocabulary)의 크기 :', total_cnt)\n",
    "print('등장 빈도가 %s번 이하인 희귀 단어의 수: %s'%(threshold - 1, rare_cnt))\n",
    "print('단어 집합에서 희귀 단어를 제외시킬 경우의 단어 집합의 크기 %s'%(total_cnt - rare_cnt))\n",
    "print(\"단어 집합에서 희귀 단어의 비율:\", (rare_cnt / total_cnt)*100)\n",
    "print(\"전체 등장 빈도에서 희귀 단어 등장 빈도 비율:\", (rare_freq / total_freq)*100)"
   ]
  },
  {
   "cell_type": "code",
   "execution_count": 45,
   "id": "c437e91e",
   "metadata": {},
   "outputs": [],
   "source": [
    "src_vocab = 8000\n",
    "src_tokenizer = Tokenizer(num_words=src_vocab) # 단어 집합의 크기를 8,000으로 제한\n",
    "src_tokenizer.fit_on_texts(encoder_input_train) # 단어 집합 재생성"
   ]
  },
  {
   "cell_type": "code",
   "execution_count": 46,
   "id": "58a21605",
   "metadata": {},
   "outputs": [
    {
     "name": "stdout",
     "output_type": "stream",
     "text": [
      "[[1243, 1637, 3674, 364, 774, 954, 119, 676, 1681, 585, 699, 649, 1345, 34, 29, 1, 5114, 759, 3486, 1637, 4803, 837, 3811, 533, 3674, 781, 314, 33, 3978], [50, 29, 1555, 1811, 948, 1811, 229, 537, 479, 2479, 49, 12, 1303, 26, 1700, 5, 495, 2166, 537, 6226, 7826, 1632, 24, 2755, 964, 12, 885, 1750, 122], [948, 2053, 3037, 6008, 200, 544, 1669, 90, 1433, 5444, 6008, 262, 197, 1433, 2660, 2864, 948, 6298, 1249, 461, 1433, 2333, 1045, 352, 2661, 1701, 168, 5, 2000, 461]]\n"
     ]
    }
   ],
   "source": [
    "# 텍스트 시퀀스를 정수 시퀀스로 변환\n",
    "encoder_input_train = src_tokenizer.texts_to_sequences(encoder_input_train) \n",
    "encoder_input_test = src_tokenizer.texts_to_sequences(encoder_input_test)\n",
    "\n",
    "# 잘 진행되었는지 샘플 출력\n",
    "print(encoder_input_train[:3])"
   ]
  },
  {
   "cell_type": "code",
   "execution_count": 47,
   "id": "e4257dc6",
   "metadata": {},
   "outputs": [],
   "source": [
    "tar_tokenizer = Tokenizer()\n",
    "tar_tokenizer.fit_on_texts(decoder_input_train)"
   ]
  },
  {
   "cell_type": "code",
   "execution_count": 48,
   "id": "8fe3668d",
   "metadata": {},
   "outputs": [
    {
     "name": "stdout",
     "output_type": "stream",
     "text": [
      "단어 집합(vocabulary)의 크기 : 28430\n",
      "등장 빈도가 5번 이하인 희귀 단어의 수: 18727\n",
      "단어 집합에서 희귀 단어를 제외시킬 경우의 단어 집합의 크기 9703\n",
      "단어 집합에서 희귀 단어의 비율: 65.87055926837847\n",
      "전체 등장 빈도에서 희귀 단어 등장 빈도 비율: 6.481553348989085\n"
     ]
    }
   ],
   "source": [
    "threshold = 6\n",
    "total_cnt = len(tar_tokenizer.word_index) # 단어의 수\n",
    "rare_cnt = 0 # 등장 빈도수가 threshold보다 작은 단어의 개수를 카운트\n",
    "total_freq = 0 # 훈련 데이터의 전체 단어 빈도수 총 합\n",
    "rare_freq = 0 # 등장 빈도수가 threshold보다 작은 단어의 등장 빈도수의 총 합\n",
    "\n",
    "# 단어와 빈도수의 쌍(pair)을 key와 value로 받는다.\n",
    "for key, value in tar_tokenizer.word_counts.items():\n",
    "    total_freq = total_freq + value\n",
    "\n",
    "    # 단어의 등장 빈도수가 threshold보다 작으면\n",
    "    if(value < threshold):\n",
    "        rare_cnt = rare_cnt + 1\n",
    "        rare_freq = rare_freq + value\n",
    "\n",
    "print('단어 집합(vocabulary)의 크기 :', total_cnt)\n",
    "print('등장 빈도가 %s번 이하인 희귀 단어의 수: %s'%(threshold - 1, rare_cnt))\n",
    "print('단어 집합에서 희귀 단어를 제외시킬 경우의 단어 집합의 크기 %s'%(total_cnt - rare_cnt))\n",
    "print(\"단어 집합에서 희귀 단어의 비율:\", (rare_cnt / total_cnt)*100)\n",
    "print(\"전체 등장 빈도에서 희귀 단어 등장 빈도 비율:\", (rare_freq / total_freq)*100)"
   ]
  },
  {
   "cell_type": "code",
   "execution_count": 49,
   "id": "05c4cf89",
   "metadata": {},
   "outputs": [
    {
     "name": "stdout",
     "output_type": "stream",
     "text": [
      "input\n",
      "input  [[1, 1772, 135, 1630, 1836, 1447], [1, 600, 586, 344, 555, 30], [1, 586], [1, 43, 673, 14], [1, 35, 747, 90, 452]]\n",
      "target\n",
      "decoder  [[1772, 135, 1630, 1836, 1447, 2], [600, 586, 344, 555, 30, 2], [586, 2], [43, 673, 14, 2], [35, 747, 90, 452, 2]]\n"
     ]
    }
   ],
   "source": [
    "tar_vocab = 2000\n",
    "tar_tokenizer = Tokenizer(num_words=tar_vocab) \n",
    "tar_tokenizer.fit_on_texts(decoder_input_train)\n",
    "tar_tokenizer.fit_on_texts(decoder_target_train)\n",
    "\n",
    "# 텍스트 시퀀스를 정수 시퀀스로 변환\n",
    "decoder_input_train = tar_tokenizer.texts_to_sequences(decoder_input_train) \n",
    "decoder_target_train = tar_tokenizer.texts_to_sequences(decoder_target_train)\n",
    "decoder_input_test = tar_tokenizer.texts_to_sequences(decoder_input_test)\n",
    "decoder_target_test = tar_tokenizer.texts_to_sequences(decoder_target_test)\n",
    "\n",
    "# 잘 변환되었는지 확인\n",
    "print('input')\n",
    "print('input ',decoder_input_train[:5])\n",
    "print('target')\n",
    "print('decoder ',decoder_target_train[:5])"
   ]
  },
  {
   "cell_type": "code",
   "execution_count": 50,
   "id": "65fa929d",
   "metadata": {},
   "outputs": [
    {
     "name": "stdout",
     "output_type": "stream",
     "text": [
      "삭제할 훈련 데이터의 개수 : 242\n",
      "삭제할 테스트 데이터의 개수 : 55\n",
      "훈련 데이터의 개수 : 69988\n",
      "훈련 레이블의 개수 : 69988\n",
      "테스트 데이터의 개수 : 17502\n",
      "테스트 레이블의 개수 : 17502\n"
     ]
    }
   ],
   "source": [
    "drop_train = [index for index, sentence in enumerate(decoder_input_train) if len(sentence) == 1]\n",
    "drop_test = [index for index, sentence in enumerate(decoder_input_test) if len(sentence) == 1]\n",
    "\n",
    "print('삭제할 훈련 데이터의 개수 :', len(drop_train))\n",
    "print('삭제할 테스트 데이터의 개수 :', len(drop_test))\n",
    "\n",
    "encoder_input_train = [sentence for index, sentence in enumerate(encoder_input_train) if index not in drop_train]\n",
    "decoder_input_train = [sentence for index, sentence in enumerate(decoder_input_train) if index not in drop_train]\n",
    "decoder_target_train = [sentence for index, sentence in enumerate(decoder_target_train) if index not in drop_train]\n",
    "\n",
    "encoder_input_test = [sentence for index, sentence in enumerate(encoder_input_test) if index not in drop_test]\n",
    "decoder_input_test = [sentence for index, sentence in enumerate(decoder_input_test) if index not in drop_test]\n",
    "decoder_target_test = [sentence for index, sentence in enumerate(decoder_target_test) if index not in drop_test]\n",
    "\n",
    "print('훈련 데이터의 개수 :', len(encoder_input_train))\n",
    "print('훈련 레이블의 개수 :', len(decoder_input_train))\n",
    "print('테스트 데이터의 개수 :', len(encoder_input_test))\n",
    "print('테스트 레이블의 개수 :', len(decoder_input_test))"
   ]
  },
  {
   "cell_type": "code",
   "execution_count": 51,
   "id": "949c4911",
   "metadata": {},
   "outputs": [],
   "source": [
    "encoder_input_train = pad_sequences(encoder_input_train, maxlen=text_max_len, padding='pre')\n",
    "encoder_input_test = pad_sequences(encoder_input_test, maxlen=text_max_len, padding='pre')\n",
    "decoder_input_train = pad_sequences(decoder_input_train, maxlen=summary_max_len, padding='pre')\n",
    "decoder_target_train = pad_sequences(decoder_target_train, maxlen=summary_max_len, padding='pre')\n",
    "decoder_input_test = pad_sequences(decoder_input_test, maxlen=summary_max_len, padding='pre')\n",
    "decoder_target_test = pad_sequences(decoder_target_test, maxlen=summary_max_len, padding='pre')"
   ]
  },
  {
   "cell_type": "code",
   "execution_count": 52,
   "id": "c4e90277",
   "metadata": {},
   "outputs": [],
   "source": [
    "from tensorflow.keras.layers import Input, LSTM, Embedding, Dense, Concatenate, TimeDistributed\n",
    "from tensorflow.keras.models import Model\n",
    "from tensorflow.keras.callbacks import EarlyStopping, ModelCheckpoint\n",
    "\n",
    "\n",
    "# 인코더 설계 시작\n",
    "embedding_dim = 128\n",
    "hidden_size = 256\n",
    "\n",
    "# 인코더\n",
    "encoder_inputs = Input(shape=(text_max_len,))\n",
    "\n",
    "# 인코더의 임베딩 층\n",
    "enc_emb = Embedding(src_vocab, embedding_dim)(encoder_inputs)\n",
    "\n",
    "# 인코더의 LSTM 1\n",
    "# encoder_lstm1 = LSTM(hidden_size, return_sequences=True, return_state=True ,dropout = 0.4, recurrent_dropout = 0.4)\n",
    "encoder_lstm1 = LSTM(hidden_size, return_sequences=True, return_state=True ,dropout = 0.4)\n",
    "encoder_output1, state_h1, state_c1 = encoder_lstm1(enc_emb)\n",
    "\n",
    "# 인코더의 LSTM 2\n",
    "encoder_lstm2 = LSTM(hidden_size, return_sequences=True, return_state=True ,dropout = 0.4)\n",
    "encoder_output2, state_h2, state_c2 = encoder_lstm2(encoder_output1)\n",
    "\n",
    "# 인코더의 LSTM 3\n",
    "encoder_lstm3 = LSTM(hidden_size, return_sequences=True, return_state=True ,dropout = 0.4)\n",
    "encoder_outputs, state_h, state_c = encoder_lstm3(encoder_output2)"
   ]
  },
  {
   "cell_type": "code",
   "execution_count": 53,
   "id": "6ecec113",
   "metadata": {},
   "outputs": [],
   "source": [
    "# 디코더 설계\n",
    "decoder_inputs = Input(shape=(None,))\n",
    "\n",
    "# 디코더의 임베딩 층\n",
    "dec_emb_layer = Embedding(tar_vocab, embedding_dim)\n",
    "dec_emb = dec_emb_layer(decoder_inputs)\n",
    "\n",
    "# 디코더의 LSTM\n",
    "# decoder_lstm = LSTM(hidden_size, return_sequences=True, return_state=True, dropout=0.4, recurrent_dropout=0.2)\n",
    "decoder_lstm = LSTM(hidden_size, return_sequences=True, return_state=True, dropout=0.4)\n",
    "decoder_outputs, _, _ = decoder_lstm(dec_emb, initial_state=[state_h, state_c])"
   ]
  },
  {
   "cell_type": "code",
   "execution_count": 54,
   "id": "d1a11ced",
   "metadata": {},
   "outputs": [
    {
     "name": "stdout",
     "output_type": "stream",
     "text": [
      "Model: \"model\"\n",
      "__________________________________________________________________________________________________\n",
      "Layer (type)                    Output Shape         Param #     Connected to                     \n",
      "==================================================================================================\n",
      "input_1 (InputLayer)            [(None, 50)]         0                                            \n",
      "__________________________________________________________________________________________________\n",
      "embedding (Embedding)           (None, 50, 128)      1024000     input_1[0][0]                    \n",
      "__________________________________________________________________________________________________\n",
      "lstm (LSTM)                     [(None, 50, 256), (N 394240      embedding[0][0]                  \n",
      "__________________________________________________________________________________________________\n",
      "input_2 (InputLayer)            [(None, None)]       0                                            \n",
      "__________________________________________________________________________________________________\n",
      "lstm_1 (LSTM)                   [(None, 50, 256), (N 525312      lstm[0][0]                       \n",
      "__________________________________________________________________________________________________\n",
      "embedding_1 (Embedding)         (None, None, 128)    256000      input_2[0][0]                    \n",
      "__________________________________________________________________________________________________\n",
      "lstm_2 (LSTM)                   [(None, 50, 256), (N 525312      lstm_1[0][0]                     \n",
      "__________________________________________________________________________________________________\n",
      "lstm_3 (LSTM)                   [(None, None, 256),  394240      embedding_1[0][0]                \n",
      "                                                                 lstm_2[0][1]                     \n",
      "                                                                 lstm_2[0][2]                     \n",
      "__________________________________________________________________________________________________\n",
      "dense (Dense)                   (None, None, 2000)   514000      lstm_3[0][0]                     \n",
      "==================================================================================================\n",
      "Total params: 3,633,104\n",
      "Trainable params: 3,633,104\n",
      "Non-trainable params: 0\n",
      "__________________________________________________________________________________________________\n"
     ]
    }
   ],
   "source": [
    "# 디코더의 출력층\n",
    "decoder_softmax_layer = Dense(tar_vocab, activation='softmax')\n",
    "decoder_softmax_outputs = decoder_softmax_layer(decoder_outputs) \n",
    "\n",
    "# 모델 정의\n",
    "model = Model([encoder_inputs, decoder_inputs], decoder_softmax_outputs)\n",
    "model.summary()"
   ]
  },
  {
   "cell_type": "markdown",
   "id": "0d786db5",
   "metadata": {},
   "source": [
    "# Step 3. 어텐션 메커니즘 사용하기 (추상적 요약)"
   ]
  },
  {
   "cell_type": "code",
   "execution_count": 55,
   "id": "54b29bb4",
   "metadata": {},
   "outputs": [
    {
     "name": "stdout",
     "output_type": "stream",
     "text": [
      "Model: \"model_1\"\n",
      "__________________________________________________________________________________________________\n",
      "Layer (type)                    Output Shape         Param #     Connected to                     \n",
      "==================================================================================================\n",
      "input_1 (InputLayer)            [(None, 50)]         0                                            \n",
      "__________________________________________________________________________________________________\n",
      "embedding (Embedding)           (None, 50, 128)      1024000     input_1[0][0]                    \n",
      "__________________________________________________________________________________________________\n",
      "lstm (LSTM)                     [(None, 50, 256), (N 394240      embedding[0][0]                  \n",
      "__________________________________________________________________________________________________\n",
      "input_2 (InputLayer)            [(None, None)]       0                                            \n",
      "__________________________________________________________________________________________________\n",
      "lstm_1 (LSTM)                   [(None, 50, 256), (N 525312      lstm[0][0]                       \n",
      "__________________________________________________________________________________________________\n",
      "embedding_1 (Embedding)         (None, None, 128)    256000      input_2[0][0]                    \n",
      "__________________________________________________________________________________________________\n",
      "lstm_2 (LSTM)                   [(None, 50, 256), (N 525312      lstm_1[0][0]                     \n",
      "__________________________________________________________________________________________________\n",
      "lstm_3 (LSTM)                   [(None, None, 256),  394240      embedding_1[0][0]                \n",
      "                                                                 lstm_2[0][1]                     \n",
      "                                                                 lstm_2[0][2]                     \n",
      "__________________________________________________________________________________________________\n",
      "attention_layer (AdditiveAttent (None, None, 256)    256         lstm_3[0][0]                     \n",
      "                                                                 lstm_2[0][0]                     \n",
      "__________________________________________________________________________________________________\n",
      "concat_layer (Concatenate)      (None, None, 512)    0           lstm_3[0][0]                     \n",
      "                                                                 attention_layer[0][0]            \n",
      "__________________________________________________________________________________________________\n",
      "dense_1 (Dense)                 (None, None, 2000)   1026000     concat_layer[0][0]               \n",
      "==================================================================================================\n",
      "Total params: 4,145,360\n",
      "Trainable params: 4,145,360\n",
      "Non-trainable params: 0\n",
      "__________________________________________________________________________________________________\n"
     ]
    }
   ],
   "source": [
    "from tensorflow.keras.layers import AdditiveAttention\n",
    "\n",
    "# 어텐션 층(어텐션 함수)\n",
    "attn_layer = AdditiveAttention(name='attention_layer')\n",
    "\n",
    "# 인코더와 디코더의 모든 time step의 hidden state를 어텐션 층에 전달하고 결과를 리턴\n",
    "attn_out = attn_layer([decoder_outputs, encoder_outputs])\n",
    "\n",
    "\n",
    "# 어텐션의 결과와 디코더의 hidden state들을 연결\n",
    "decoder_concat_input = Concatenate(axis=-1, name='concat_layer')([decoder_outputs, attn_out])\n",
    "\n",
    "# 디코더의 출력층\n",
    "decoder_softmax_layer = Dense(tar_vocab, activation='softmax')\n",
    "decoder_softmax_outputs = decoder_softmax_layer(decoder_concat_input)\n",
    "\n",
    "# 모델 정의\n",
    "model = Model([encoder_inputs, decoder_inputs], decoder_softmax_outputs)\n",
    "model.summary()"
   ]
  },
  {
   "cell_type": "code",
   "execution_count": 56,
   "id": "306d304b",
   "metadata": {},
   "outputs": [
    {
     "name": "stdout",
     "output_type": "stream",
     "text": [
      "Epoch 1/50\n",
      "274/274 [==============================] - 26s 71ms/step - loss: 4.2282 - val_loss: 3.9866\n",
      "Epoch 2/50\n",
      "274/274 [==============================] - 19s 68ms/step - loss: 3.9858 - val_loss: 3.9065\n",
      "Epoch 3/50\n",
      "274/274 [==============================] - 19s 69ms/step - loss: 3.9103 - val_loss: 3.8458\n",
      "Epoch 4/50\n",
      "274/274 [==============================] - 19s 70ms/step - loss: 3.8241 - val_loss: 3.7631\n",
      "Epoch 5/50\n",
      "274/274 [==============================] - 19s 70ms/step - loss: 3.7253 - val_loss: 3.6676\n",
      "Epoch 6/50\n",
      "274/274 [==============================] - 19s 71ms/step - loss: 3.6394 - val_loss: 3.6071\n",
      "Epoch 7/50\n",
      "274/274 [==============================] - 19s 70ms/step - loss: 3.5785 - val_loss: 3.5747\n",
      "Epoch 8/50\n",
      "274/274 [==============================] - 19s 70ms/step - loss: 3.5514 - val_loss: 3.5445\n",
      "Epoch 9/50\n",
      "274/274 [==============================] - 19s 71ms/step - loss: 3.4942 - val_loss: 3.5193\n",
      "Epoch 10/50\n",
      "274/274 [==============================] - 19s 71ms/step - loss: 3.4598 - val_loss: 3.4965\n",
      "Epoch 11/50\n",
      "274/274 [==============================] - 19s 70ms/step - loss: 3.4293 - val_loss: 3.4802\n",
      "Epoch 12/50\n",
      "274/274 [==============================] - 19s 70ms/step - loss: 3.4009 - val_loss: 3.4701\n",
      "Epoch 13/50\n",
      "274/274 [==============================] - 19s 70ms/step - loss: 3.3750 - val_loss: 3.4571\n",
      "Epoch 14/50\n",
      "274/274 [==============================] - 19s 70ms/step - loss: 3.3507 - val_loss: 3.4496\n",
      "Epoch 15/50\n",
      "274/274 [==============================] - 19s 70ms/step - loss: 3.3126 - val_loss: 3.3829\n",
      "Epoch 16/50\n",
      "274/274 [==============================] - 19s 71ms/step - loss: 3.2289 - val_loss: 3.3255\n",
      "Epoch 17/50\n",
      "274/274 [==============================] - 19s 70ms/step - loss: 3.1605 - val_loss: 3.2779\n",
      "Epoch 18/50\n",
      "274/274 [==============================] - 19s 70ms/step - loss: 3.0892 - val_loss: 3.2420\n",
      "Epoch 19/50\n",
      "274/274 [==============================] - 19s 70ms/step - loss: 3.0009 - val_loss: 3.1189\n",
      "Epoch 20/50\n",
      "274/274 [==============================] - 19s 71ms/step - loss: 2.9729 - val_loss: 3.6320\n",
      "Epoch 21/50\n",
      "274/274 [==============================] - 19s 71ms/step - loss: 3.0704 - val_loss: 3.0671\n",
      "Epoch 22/50\n",
      "274/274 [==============================] - 19s 71ms/step - loss: 2.8098 - val_loss: 3.0029\n",
      "Epoch 23/50\n",
      "274/274 [==============================] - 19s 71ms/step - loss: 2.7323 - val_loss: 2.9470\n",
      "Epoch 24/50\n",
      "274/274 [==============================] - 19s 71ms/step - loss: 2.6621 - val_loss: 2.9020\n",
      "Epoch 25/50\n",
      "274/274 [==============================] - 19s 71ms/step - loss: 2.5960 - val_loss: 2.8727\n",
      "Epoch 26/50\n",
      "274/274 [==============================] - 19s 71ms/step - loss: 2.5350 - val_loss: 2.8321\n",
      "Epoch 27/50\n",
      "274/274 [==============================] - 19s 71ms/step - loss: 2.4768 - val_loss: 2.7987\n",
      "Epoch 28/50\n",
      "274/274 [==============================] - 19s 71ms/step - loss: 2.4217 - val_loss: 2.7786\n",
      "Epoch 29/50\n",
      "274/274 [==============================] - 19s 71ms/step - loss: 2.3679 - val_loss: 2.7545\n",
      "Epoch 30/50\n",
      "274/274 [==============================] - 19s 71ms/step - loss: 2.3163 - val_loss: 2.7171\n",
      "Epoch 31/50\n",
      "274/274 [==============================] - 19s 71ms/step - loss: 2.2671 - val_loss: 2.6969\n",
      "Epoch 32/50\n",
      "274/274 [==============================] - 19s 71ms/step - loss: 2.2195 - val_loss: 2.6807\n",
      "Epoch 33/50\n",
      "274/274 [==============================] - 19s 71ms/step - loss: 2.1729 - val_loss: 2.6550\n",
      "Epoch 34/50\n",
      "274/274 [==============================] - 19s 71ms/step - loss: 2.1294 - val_loss: 2.6416\n",
      "Epoch 35/50\n",
      "274/274 [==============================] - 19s 71ms/step - loss: 2.0875 - val_loss: 2.6270\n",
      "Epoch 36/50\n",
      "274/274 [==============================] - 19s 71ms/step - loss: 2.0475 - val_loss: 2.6179\n",
      "Epoch 37/50\n",
      "274/274 [==============================] - 19s 71ms/step - loss: 2.0106 - val_loss: 2.6033\n",
      "Epoch 38/50\n",
      "274/274 [==============================] - 19s 71ms/step - loss: 1.9738 - val_loss: 2.6040\n",
      "Epoch 39/50\n",
      "274/274 [==============================] - 19s 71ms/step - loss: 1.9390 - val_loss: 2.5947\n",
      "Epoch 40/50\n",
      "274/274 [==============================] - 19s 71ms/step - loss: 1.9063 - val_loss: 2.5831\n",
      "Epoch 41/50\n",
      "274/274 [==============================] - 19s 71ms/step - loss: 1.8750 - val_loss: 2.5776\n",
      "Epoch 42/50\n",
      "274/274 [==============================] - 19s 71ms/step - loss: 1.8444 - val_loss: 2.5764\n",
      "Epoch 43/50\n",
      "274/274 [==============================] - 19s 71ms/step - loss: 1.8151 - val_loss: 2.5693\n",
      "Epoch 44/50\n",
      "274/274 [==============================] - 19s 70ms/step - loss: 1.7882 - val_loss: 2.5646\n",
      "Epoch 45/50\n",
      "274/274 [==============================] - 19s 71ms/step - loss: 1.7608 - val_loss: 2.5616\n",
      "Epoch 46/50\n",
      "274/274 [==============================] - 19s 71ms/step - loss: 1.7352 - val_loss: 2.5728\n",
      "Epoch 47/50\n",
      "274/274 [==============================] - 19s 71ms/step - loss: 1.7126 - val_loss: 2.5750\n",
      "Epoch 00047: early stopping\n"
     ]
    }
   ],
   "source": [
    "model.compile(optimizer='rmsprop', loss='sparse_categorical_crossentropy')\n",
    "es = EarlyStopping(monitor='val_loss', patience=2, verbose=1)\n",
    "history = model.fit(x=[encoder_input_train, decoder_input_train], y=decoder_target_train, \\\n",
    "          validation_data=([encoder_input_test, decoder_input_test], decoder_target_test), \\\n",
    "          batch_size=256, callbacks=[es], epochs=50)"
   ]
  },
  {
   "cell_type": "code",
   "execution_count": 57,
   "id": "c928a554",
   "metadata": {},
   "outputs": [
    {
     "data": {
      "image/png": "[encoded data removed]",
      "text/plain": [
       "<Figure size 432x288 with 1 Axes>"
      ]
     },
     "metadata": {
      "needs_background": "light"
     },
     "output_type": "display_data"
    }
   ],
   "source": [
    "plt.plot(history.history['loss'], label='train')\n",
    "plt.plot(history.history['val_loss'], label='test')\n",
    "plt.legend()\n",
    "plt.show()"
   ]
  },
  {
   "cell_type": "markdown",
   "id": "67f4e2ab",
   "metadata": {},
   "source": [
    "인퍼런스 모델 구현"
   ]
  },
  {
   "cell_type": "code",
   "execution_count": 58,
   "id": "aa3463e8",
   "metadata": {},
   "outputs": [],
   "source": [
    "src_index_to_word = src_tokenizer.index_word # 원문 단어 집합에서 정수 -> 단어를 얻음\n",
    "tar_word_to_index = tar_tokenizer.word_index # 요약 단어 집합에서 단어 -> 정수를 얻음\n",
    "tar_index_to_word = tar_tokenizer.index_word # 요약 단어 집합에서 정수 -> 단어를 얻음"
   ]
  },
  {
   "cell_type": "code",
   "execution_count": 60,
   "id": "09d17ef9",
   "metadata": {},
   "outputs": [],
   "source": [
    "# 인코더 설계\n",
    "encoder_model = Model(inputs=encoder_inputs, outputs=[encoder_outputs, state_h, state_c])\n",
    "\n",
    "# 이전 시점의 상태들을 저장하는 텐서\n",
    "decoder_state_input_h = Input(shape=(hidden_size,))\n",
    "decoder_state_input_c = Input(shape=(hidden_size,))\n",
    "\n",
    "dec_emb2 = dec_emb_layer(decoder_inputs)\n",
    "\n",
    "# 문장의 다음 단어를 예측하기 위해서 초기 상태(initial_state)를 이전 시점의 상태로 사용. 이는 뒤의 함수 decode_sequence()에 구현\n",
    "# 훈련 과정에서와 달리 LSTM의 리턴하는 은닉 상태와 셀 상태인 state_h와 state_c를 버리지 않음.\n",
    "decoder_outputs2, state_h2, state_c2 = decoder_lstm(dec_emb2, initial_state=[decoder_state_input_h, decoder_state_input_c])"
   ]
  },
  {
   "cell_type": "code",
   "execution_count": 61,
   "id": "9dd467f4",
   "metadata": {},
   "outputs": [],
   "source": [
    "# 어텐션 함수\n",
    "decoder_hidden_state_input = Input(shape=(text_max_len, hidden_size))\n",
    "attn_out_inf = attn_layer([decoder_outputs2, decoder_hidden_state_input])\n",
    "decoder_inf_concat = Concatenate(axis=-1, name='concat')([decoder_outputs2, attn_out_inf])\n",
    "\n",
    "# 디코더의 출력층\n",
    "decoder_outputs2 = decoder_softmax_layer(decoder_inf_concat) \n",
    "\n",
    "# 최종 디코더 모델\n",
    "decoder_model = Model(\n",
    "    [decoder_inputs] + [decoder_hidden_state_input,decoder_state_input_h, decoder_state_input_c],\n",
    "    [decoder_outputs2] + [state_h2, state_c2])"
   ]
  },
  {
   "cell_type": "code",
   "execution_count": 62,
   "id": "840d153b",
   "metadata": {},
   "outputs": [],
   "source": [
    "def decode_sequence(input_seq):\n",
    "    # 입력으로부터 인코더의 상태를 얻음\n",
    "    e_out, e_h, e_c = encoder_model.predict(input_seq)\n",
    "\n",
    "     # <SOS>에 해당하는 토큰 생성\n",
    "    target_seq = np.zeros((1,1))\n",
    "    target_seq[0, 0] = tar_word_to_index['sostoken']\n",
    "\n",
    "    stop_condition = False\n",
    "    decoded_sentence = ''\n",
    "    while not stop_condition: # stop_condition이 True가 될 때까지 루프 반복\n",
    "\n",
    "        output_tokens, h, c = decoder_model.predict([target_seq] + [e_out, e_h, e_c])\n",
    "        sampled_token_index = np.argmax(output_tokens[0, -1, :])\n",
    "        sampled_token = tar_index_to_word[sampled_token_index]\n",
    "\n",
    "        if (sampled_token!='eostoken'):\n",
    "            decoded_sentence += ' '+sampled_token\n",
    "\n",
    "        #  <eos>에 도달하거나 최대 길이를 넘으면 중단.\n",
    "        if (sampled_token == 'eostoken'  or len(decoded_sentence.split()) >= (summary_max_len-1)):\n",
    "            stop_condition = True\n",
    "\n",
    "        # 길이가 1인 타겟 시퀀스를 업데이트\n",
    "        target_seq = np.zeros((1,1))\n",
    "        target_seq[0, 0] = sampled_token_index\n",
    "\n",
    "        # 상태를 업데이트 합니다.\n",
    "        e_h, e_c = h, c\n",
    "\n",
    "    return decoded_sentence"
   ]
  },
  {
   "cell_type": "markdown",
   "id": "c7e1a388",
   "metadata": {},
   "source": [
    "### 모델 테스트 해보자"
   ]
  },
  {
   "cell_type": "code",
   "execution_count": 63,
   "id": "22df5d86",
   "metadata": {},
   "outputs": [],
   "source": [
    "# 원문의 정수 시퀀스를 텍스트 시퀀스로 변환\n",
    "def seq2text(input_seq):\n",
    "    temp=''\n",
    "    for i in input_seq:\n",
    "        if (i!=0):\n",
    "            temp = temp + src_index_to_word[i]+' '\n",
    "    return temp\n",
    "\n",
    "# 요약문의 정수 시퀀스를 텍스트 시퀀스로 변환\n",
    "def seq2summary(input_seq):\n",
    "    temp=''\n",
    "    for i in input_seq:\n",
    "        if ((i!=0 and i!=tar_word_to_index['sostoken']) and i!=tar_word_to_index['eostoken']):\n",
    "            temp = temp + tar_index_to_word[i] + ' '\n",
    "    return temp"
   ]
  },
  {
   "cell_type": "markdown",
   "id": "d2b1bb05",
   "metadata": {},
   "source": [
    "# Step 4. 실제 결과와 요약문 비교하기(추상적 요약)"
   ]
  },
  {
   "cell_type": "code",
   "execution_count": 64,
   "id": "c9352b70",
   "metadata": {},
   "outputs": [
    {
     "name": "stdout",
     "output_type": "stream",
     "text": [
      "원문 : chelsea midfielder bagged year third best player award form premier league player year year old already named player year football association professional footballers association notably bagged second consecutive premier league title last year \n",
      "실제 요약 : wins rd player year award \n",
      "예측 요약 :  england player named youngest player years lead\n",
      "\n",
      "\n",
      "원문 : women take years equal number men across un nations report inter parliamentary union un women revealed percentage women india ranked women representation lok sabha rajya sabha \n",
      "실제 요약 : women need yrs number men un \n",
      "예측 요약 :  women women men un citizenship myanmar un\n",
      "\n",
      "\n",
      "원문 : congress leader sunday asked attorney general mukul resign allegedly acting bar hotel owners kerala supreme court banned sale liquor within national state highways advised kerala government bar hotels beer wine remain \n",
      "실제 요약 : cong asks general resign liquor ban issue \n",
      "예측 요약 :  congress leader assaulted liquor ban delhi hotel\n",
      "\n",
      "\n",
      "원문 : benchmark bse sensex nse nifty hit record tuesday nifty breached mark first time sensex closed time high stocks hit week high stocks emerged top investors remained corporate earnings line expectations good monsoon \n",
      "실제 요약 : sensex close time \n",
      "예측 요약 :  sensex hits points day hit time high\n",
      "\n",
      "\n",
      "원문 : bjp leader union minister hegde wednesday said congress president rahul gandhi visit poll bound karnataka good entertainment added visits also help bjp grow stronger state calling gandhi karnataka cm siddaramaiah hegde said happy least started hindus \n",
      "실제 요약 : rahul visit karnataka good bjp leader \n",
      "예측 요약 :  rahul gandhi calls bjp mp rahul gandhi\n",
      "\n",
      "\n",
      "원문 : union cabinet cleared proposal salaries members parliament constituency allowance increased office allowance one time furniture allowance lakh presenting budget finance minister arun jaitley announced salary every five years \n",
      "실제 요약 : union cabinet clears proposal hike mps \n",
      "예측 요약 :  govt cuts employees leave national free scheme\n",
      "\n",
      "\n",
      "원문 : new zone first time since creation original zones municipal corporation delhi north delhi mayor agarwal said new zone means area get focus added notably divided north south east delhi municipal \n",
      "실제 요약 : new st time history mayor \n",
      "예측 요약 :  st delhi metro station day day event\n",
      "\n",
      "\n",
      "원문 : china tuesday announced plans link economic corridor pakistan belt road initiative involving india part china initiative link europe asia notably india raised concerns china pakistan economic corridor passes threat sovereignty \n",
      "실제 요약 : china link pak economic indian project \n",
      "예측 요약 :  china plans offer india road services services\n",
      "\n",
      "\n",
      "원문 : mandatory public authority seek find information provide rti request delhi high court said court added authority provide information available act need find information despite power said \n",
      "실제 요약 : mandatory find info rti hc \n",
      "예측 요약 :  delhi govt asks hc dismisses plea ban\n",
      "\n",
      "\n",
      "원문 : named man match scoring srh kxip chris gayle said virender sehwag saved ipl picking auction year old hit two plus scores two matches season bought crore going unsold twice earlier sehwag said gayle bought back option \n",
      "실제 요약 : sehwag saved ipl gayle \n",
      "예측 요약 :  watch ipl auction year old son ipl\n",
      "\n",
      "\n",
      "원문 : entire police force police station jaipur searched three missing children throughout wednesday night later find gone watch baahubali children gone mall watch film could get tickets later home fear getting late lost way \n",
      "실제 요약 : missing kids found baahubali \n",
      "예측 요약 :  police release missing missing tn kids report\n",
      "\n",
      "\n",
      "원문 : income tax department reportedly launched probe acquisition icici bank ceo chanda kochhar family residence mumbai husband deepak kochhar purchased flat complex transaction involving firms linked videocon group reports said chanda kochhar currently leave internal probe allegations completed \n",
      "실제 요약 : mumbai house dept \n",
      "예측 요약 :  dept files fir gold worth crore reports\n",
      "\n",
      "\n",
      "원문 : us supreme court tuesday overturned rule developed san francisco based court gave victims police additional route alleged excessive force apex court ruled police officers cannot held liable use force consequences even violent \n",
      "실제 요약 : us sc makes police force \n",
      "예측 요약 :  sc orders ban hotel trapped inside sc\n",
      "\n",
      "\n",
      "원문 : priyanka chopra sunday shared picture cricket match ceremony wrote team bride vs team groom cricket also shared video nick jonas batting captioned six cricket priyanka got married nick christian wedding ceremony nick father jodhpur saturday \n",
      "실제 요약 : priyanka shares pic cricket match ceremony \n",
      "예측 요약 :  priyanka shares pic match plays cricket match\n",
      "\n",
      "\n",
      "원문 : cricketer turned commentator virender sehwag congratulated indian army jammu kashmir police terrorists calling unbeaten double century comes jammu kashmir dgp sp revealed militants killed year highest since called huge landmark establishing peace \n",
      "실제 요약 : sehwag police double century \n",
      "예측 요약 :  sehwag urges army major gun jadeja diwali\n",
      "\n",
      "\n",
      "원문 : pm narendra modi celebrated diwali jawans indian army bsf jammu kashmir thursday pm modi said like everyone else wished spend diwali family visited jawans considers family also said happy know jawans practice yoga regularly \n",
      "실제 요약 : pm modi celebrates diwali calls jawans family \n",
      "예측 요약 :  pm modi releases video surgical strikes diwali\n",
      "\n",
      "\n",
      "원문 : bcci exploring ways avoid india pakistan nine team test league recently approved possible play team problem series india pakistan something affects international cricket bcci secretary said comes ahead bcci special general meeting december \n",
      "실제 요약 : bcci wants avoid india pakistan match test league \n",
      "예측 요약 :  bcci rejects pakistan india pakistan cricket team\n",
      "\n",
      "\n",
      "원문 : poster film ayushmann khurrana character unveiled stand love releasing st tweeted ayushmann film stars bhumi pednekar female lead making second film opposite ayushmann ke \n",
      "실제 요약 : poster ayushmann film unveiled \n",
      "예측 요약 :  poster rajkummar rao look upcoming film unveiled\n",
      "\n",
      "\n",
      "원문 : kaur resident noida crowned miss teen universe beating contestants around world beauty pageant held capital also award best national costume featured indian national bird currently studying london school fashion \n",
      "실제 요약 : noida girl miss teen \n",
      "예측 요약 :  yr old bengaluru police spend cwg saina\n",
      "\n",
      "\n",
      "원문 : least people killed dozen others injured late friday garbage sri lanka according reports metre high buried around houses reportedly collapsed flames residents area demanding removal saying caused health issues \n",
      "실제 요약 : sri lanka kills \n",
      "예측 요약 :  killed injured pak sri lanka floods rises\n",
      "\n",
      "\n",
      "원문 : congress leader shashi tharoor sunday said congress president rahul gandhi right make prime minister added selection pm candidate collective decision decided polls said voters taken ride bjp \n",
      "실제 요약 : rahul make pm tharoor \n",
      "예측 요약 :  rahul gandhi trust trust trust motion tharoor\n",
      "\n",
      "\n",
      "원문 : two sitting mlas rajasthan passed away within six months two bjp mlas thursday claimed state assembly built ground demanded however congress leader said never felt presence evil spirit assembly things spread among people \n",
      "실제 요약 : raj mlas fear assembly demand \n",
      "예측 요약 :  mla gujarat mla suspended floor test assembly\n",
      "\n",
      "\n",
      "원문 : luxury chain itc hotels completed crore acquisition park goa resort acquisition part auction held industrial finance corporation india upheld supreme court march judgement room property spread across acres currently minor \n",
      "실제 요약 : acquires park goa crore \n",
      "예측 요약 :  sell cr cash selling property house sale\n",
      "\n",
      "\n",
      "원문 : founder bjp cell bora said cell become like added campaign cell controlled run modi team started said cannot fix cell fix party president nn \n",
      "실제 요약 : bjp like founder \n",
      "예측 요약 :  mark zuckerberg blames rumours person dating industry\n",
      "\n",
      "\n",
      "원문 : core biometric data aadhaar card holders till date faced cyber attack unique identification authority india said response rti query uidai however refused share latest cyber security assessment aadhaar data citing national security notably uidai currently data crore indians \n",
      "실제 요약 : attack aadhaar data says \n",
      "예측 요약 :  aadhaar card mobile mobile number linked diwali\n",
      "\n",
      "\n",
      "원문 : year old woman allegedly killed mother hitting objected relationship female teacher ghaziabad earlier week woman father said relationship teacher three months wanted run away police registered fir absconding woman teacher \n",
      "실제 요약 : woman kills mom female teacher \n",
      "예측 요약 :  woman kills self front woman dropped home\n",
      "\n",
      "\n",
      "원문 : facebook coo sandberg event earlier week talking sexual harassment said cannot harvey weinstein like behaviour also said people around know anything last week hollywood producer harvey weinstein accused sexually harassing actresses decades \n",
      "실제 요약 : cannot weinstein like facebook \n",
      "예측 요약 :  fb reveals people sexual harassment leave casting\n",
      "\n",
      "\n",
      "원문 : google ceo sundar pichai authority parent company alphabet overall resource allocation google per report quoting filings pichai neither financial information alphabet decision making power however pichai commit google investments set amount without co founder larry page approval \n",
      "실제 요약 : holds google \n",
      "예측 요약 :  google ceo among top search search report\n",
      "\n",
      "\n",
      "원문 : actress tanushree dutta claimed director vivek asked remove clothes dance front irrfan khan give debut film chocolate shoot said irrfan immediately told need knew act tanushree added shetty also stood director \n",
      "실제 요약 : director told remove clothes dance tanushree \n",
      "예측 요약 :  kangana slammed tv tv actors tv show\n",
      "\n",
      "\n",
      "원문 : deepika padukone indian actress feature international women impact report us magazine variety report stated star recent bollywood padmaavat faced death threats verbal abuse various groups also active producer indian featured report \n",
      "실제 요약 : deepika features int women report \n",
      "예측 요약 :  deepika star together tv show india report\n",
      "\n",
      "\n",
      "원문 : educational society run school bulandshahr uttar pradesh free toilets homes students secure attendance institution founder school sam singh came back us years work society \n",
      "실제 요약 : school gifts toilet students \n",
      "예측 요약 :  school students get free toilet school event\n",
      "\n",
      "\n",
      "원문 : trailer upcoming action thriller released starring jackie chan james bond actor lead roles film based novel stephen directed martin scheduled release october united states \n",
      "실제 요약 : trailer \n",
      "예측 요약 :  trailer starrer short film another released released\n",
      "\n",
      "\n",
      "원문 : government denied reports education become goods services tax regime finance ministry called reports completely change made subject relating education gst era except reduce tax rate certain items education school bags government statement said \n",
      "실제 요약 : education get expensive gst govt \n",
      "예측 요약 :  govt denies reports notice gst commission commission\n",
      "\n",
      "\n",
      "원문 : us government lifted three year funding gain function experiments seeking alter like make even dangerous research important helping us identify develop counter rapidly pose threat public health said national institutes health \n",
      "실제 요약 : us funding ban make \n",
      "예측 요약 :  us based force force intel security policy\n",
      "\n",
      "\n",
      "원문 : fast food giant burger king used horror movie troll rival mcdonald film premiere germany burger king message movie final credit reads moral never trust followed second message reads burger king reference mcdonald used mcdonald brand \n",
      "실제 요약 : king uses film troll mcdonald \n",
      "예측 요약 :  new zealand trolls hacked world biggest hack\n",
      "\n",
      "\n",
      "원문 : year old man found murdered body mumbai bandra saturday man worked day security guard night found dumped two cars police said motive murder wallet phone found \n",
      "실제 요약 : man found murdered mumbai \n",
      "예측 요약 :  man dies heart attack hyd police station\n",
      "\n",
      "\n",
      "원문 : italian football club owner family announced willing consider offers club following club fans family acquired italian club guided team group stage champions league seasons \n",
      "실제 요약 : italian football club sale fan \n",
      "예측 요약 :  football club manager sold lakh reward pitch\n",
      "\n",
      "\n",
      "원문 : national conference vice president omar abdullah denied possibility alliance bjp forming government jammu kashmir called reports supporting bjp chief minister fake news would stuff seems videos used scare level workers tweeted former cm \n",
      "실제 요약 : fake news bjp cm \n",
      "예측 요약 :  bjp chief claims bjp chief claims casting\n",
      "\n",
      "\n",
      "원문 : cctv footage showing group students beating another student delhi college surfaced online group attacked student money targeted saying bihar ke ho nahi reports said student alleged police take seriously complained incident \n",
      "실제 요약 : student thrashed delhi college bihar \n",
      "예측 요약 :  teacher allegedly student allegedly commits suicide exam\n",
      "\n",
      "\n",
      "원문 : indian football team captain sunil chhetri said makes bit nervous honoured padma shri award need time understand recognition actually means added chhetri sixth footballer honoured award team said \n",
      "실제 요약 : makes sunil award \n",
      "예측 요약 :  team india best actor actor win awards\n",
      "\n",
      "\n",
      "원문 : recent us president donald trump team called child labour country team posted video trump facebook page said administration putting minors back work instead word miners came trump declared ended war clean beautiful coal \n",
      "실제 요약 : trump video calls child \n",
      "예측 요약 :  trump mistakenly sends back calling girls trump\n",
      "\n",
      "\n",
      "원문 : indian priest father tom kidnapped isis march old age home yemen freed priest reportedly rescued following intervention foreign ministry officials video released may year priest accused indian government little secure release \n",
      "실제 요약 : indian priest rescued isis months \n",
      "예측 요약 :  priest death death sentence sri lanka floods\n",
      "\n",
      "\n",
      "원문 : karnataka cm hd kumaraswamy thursday reportedly said decided address press future engage media daily basis hurt attitude media certain elements every comment made caused lot pain added \n",
      "실제 요약 : media press taka cm \n",
      "예측 요약 :  taka cm asks social media social media\n",
      "\n",
      "\n",
      "원문 : american boxer floyd mayweather threw notes irish fighter conor mcgregor telling worth mayweather mcgregor facing third day ahead bout august mayweather threw bills mcgregor said ones \n",
      "실제 요약 : notes mcgregor says worth \n",
      "예측 요약 :  us host host mcgregor gold worth lakh\n",
      "\n",
      "\n",
      "원문 : pet dog named jackie survivor house delhi family members found dead sunday dog indian mix found fever degrees extremely aggressive took animal one hour control bring ambulance \n",
      "실제 요약 : dog house family found dead \n",
      "예측 요약 :  dog dead family found dead inside delhi\n",
      "\n",
      "\n",
      "원문 : prakash padukone revealed initially found difficult read daughter deepika padukone link rumours adding used true absolutely correct part cannot good things one accept said \n",
      "실제 요약 : found deepika link rumours \n",
      "예측 요약 :  deepika deepika star together italy italy reports\n",
      "\n",
      "\n",
      "원문 : actor shahid kapoor took instagram shared picture wife mira rajput baby shower hosted sunday mumbai residence shahid half brother ishaan khatter also attended baby shower along dhadak co star janhvi kapoor shahid mira already one year old daughter named kapoor \n",
      "실제 요약 : shahid kapoor shares picture wife baby \n",
      "예측 요약 :  shahid shares pic mother parents birth anniversary\n",
      "\n",
      "\n",
      "원문 : available delhi two years state government manufacturer united limited using unauthorised three year ban imposed may offence challenged sales hence remaining period \n",
      "실제 요약 : banned yrs delhi \n",
      "예측 요약 :  delhi high rise rise rise number year\n",
      "\n",
      "\n",
      "원문 : acquiring stake flipkart walmart ceo said deal opened opportunity generate crore jobs period years india earlier said decision acquire stake flipkart among best decisions walmart ever made walmart pay billion stake \n",
      "실제 요약 : flipkart deal opens cr jobs walmart ceo \n",
      "예측 요약 :  flipkart may become flipkart walmart deal records\n",
      "\n",
      "\n",
      "원문 : several scientific organisations universities across country organising week february remove doubt planted minds common people theory comes union minister satya pal singh earlier remark theory wrong taught schools \n",
      "실제 요약 : indian scientists hold week support \n",
      "예측 요약 :  anti national anthem anti national day event\n",
      "\n",
      "\n"
     ]
    }
   ],
   "source": [
    "for i in range(50, 100):\n",
    "    print(\"원문 :\", seq2text(encoder_input_test[i]))\n",
    "    print(\"실제 요약 :\", seq2summary(decoder_input_test[i]))\n",
    "    print(\"예측 요약 :\", decode_sequence(encoder_input_test[i].reshape(1, text_max_len)))\n",
    "    print(\"\\n\")"
   ]
  },
  {
   "cell_type": "markdown",
   "id": "9210dcdb",
   "metadata": {},
   "source": [
    "# Step 5. Summa을 이용해서 추출적 요약해보기"
   ]
  },
  {
   "cell_type": "code",
   "execution_count": 65,
   "id": "c291a7d5",
   "metadata": {},
   "outputs": [],
   "source": [
    "import requests\n",
    "from summa.summarizer import summarize"
   ]
  },
  {
   "cell_type": "code",
   "execution_count": 109,
   "id": "89b36f8e",
   "metadata": {},
   "outputs": [
    {
     "data": {
      "text/html": [
       "<div>\n",
       "<style scoped>\n",
       "    .dataframe tbody tr th:only-of-type {\n",
       "        vertical-align: middle;\n",
       "    }\n",
       "\n",
       "    .dataframe tbody tr th {\n",
       "        vertical-align: top;\n",
       "    }\n",
       "\n",
       "    .dataframe thead th {\n",
       "        text-align: right;\n",
       "    }\n",
       "</style>\n",
       "<table border=\"1\" class=\"dataframe\">\n",
       "  <thead>\n",
       "    <tr style=\"text-align: right;\">\n",
       "      <th></th>\n",
       "      <th>headlines</th>\n",
       "      <th>text</th>\n",
       "    </tr>\n",
       "  </thead>\n",
       "  <tbody>\n",
       "    <tr>\n",
       "      <th>0</th>\n",
       "      <td>upGrad learner switches to career in ML &amp; Al w...</td>\n",
       "      <td>Saurav Kant, an alumnus of upGrad and IIIT-B's...</td>\n",
       "    </tr>\n",
       "    <tr>\n",
       "      <th>1</th>\n",
       "      <td>Delhi techie wins free food from Swiggy for on...</td>\n",
       "      <td>Kunal Shah's credit card bill payment platform...</td>\n",
       "    </tr>\n",
       "    <tr>\n",
       "      <th>2</th>\n",
       "      <td>New Zealand end Rohit Sharma-led India's 12-ma...</td>\n",
       "      <td>New Zealand defeated India by 8 wickets in the...</td>\n",
       "    </tr>\n",
       "    <tr>\n",
       "      <th>3</th>\n",
       "      <td>Aegon life iTerm insurance plan helps customer...</td>\n",
       "      <td>With Aegon Life iTerm Insurance plan, customer...</td>\n",
       "    </tr>\n",
       "    <tr>\n",
       "      <th>4</th>\n",
       "      <td>Have known Hirani for yrs, what if MeToo claim...</td>\n",
       "      <td>Speaking about the sexual harassment allegatio...</td>\n",
       "    </tr>\n",
       "    <tr>\n",
       "      <th>...</th>\n",
       "      <td>...</td>\n",
       "      <td>...</td>\n",
       "    </tr>\n",
       "    <tr>\n",
       "      <th>98396</th>\n",
       "      <td>CRPF jawan axed to death by Maoists in Chhatti...</td>\n",
       "      <td>A CRPF jawan was on Tuesday axed to death with...</td>\n",
       "    </tr>\n",
       "    <tr>\n",
       "      <th>98397</th>\n",
       "      <td>First song from Sonakshi Sinha's 'Noor' titled...</td>\n",
       "      <td>'Uff Yeh', the first song from the Sonakshi Si...</td>\n",
       "    </tr>\n",
       "    <tr>\n",
       "      <th>98398</th>\n",
       "      <td>'The Matrix' film to get a reboot: Reports</td>\n",
       "      <td>According to reports, a new version of the 199...</td>\n",
       "    </tr>\n",
       "    <tr>\n",
       "      <th>98399</th>\n",
       "      <td>Snoop Dogg aims gun at clown dressed as Trump ...</td>\n",
       "      <td>A new music video shows rapper Snoop Dogg aimi...</td>\n",
       "    </tr>\n",
       "    <tr>\n",
       "      <th>98400</th>\n",
       "      <td>Madhesi Morcha withdraws support to Nepalese g...</td>\n",
       "      <td>Madhesi Morcha, an alliance of seven political...</td>\n",
       "    </tr>\n",
       "  </tbody>\n",
       "</table>\n",
       "<p>98401 rows × 2 columns</p>\n",
       "</div>"
      ],
      "text/plain": [
       "                                               headlines  \\\n",
       "0      upGrad learner switches to career in ML & Al w...   \n",
       "1      Delhi techie wins free food from Swiggy for on...   \n",
       "2      New Zealand end Rohit Sharma-led India's 12-ma...   \n",
       "3      Aegon life iTerm insurance plan helps customer...   \n",
       "4      Have known Hirani for yrs, what if MeToo claim...   \n",
       "...                                                  ...   \n",
       "98396  CRPF jawan axed to death by Maoists in Chhatti...   \n",
       "98397  First song from Sonakshi Sinha's 'Noor' titled...   \n",
       "98398         'The Matrix' film to get a reboot: Reports   \n",
       "98399  Snoop Dogg aims gun at clown dressed as Trump ...   \n",
       "98400  Madhesi Morcha withdraws support to Nepalese g...   \n",
       "\n",
       "                                                    text  \n",
       "0      Saurav Kant, an alumnus of upGrad and IIIT-B's...  \n",
       "1      Kunal Shah's credit card bill payment platform...  \n",
       "2      New Zealand defeated India by 8 wickets in the...  \n",
       "3      With Aegon Life iTerm Insurance plan, customer...  \n",
       "4      Speaking about the sexual harassment allegatio...  \n",
       "...                                                  ...  \n",
       "98396  A CRPF jawan was on Tuesday axed to death with...  \n",
       "98397  'Uff Yeh', the first song from the Sonakshi Si...  \n",
       "98398  According to reports, a new version of the 199...  \n",
       "98399  A new music video shows rapper Snoop Dogg aimi...  \n",
       "98400  Madhesi Morcha, an alliance of seven political...  \n",
       "\n",
       "[98401 rows x 2 columns]"
      ]
     },
     "execution_count": 109,
     "metadata": {},
     "output_type": "execute_result"
    }
   ],
   "source": [
    "summa_data = pd.read_csv(data_link, encoding='iso-8859-1')\n",
    "summa_data"
   ]
  },
  {
   "cell_type": "code",
   "execution_count": 114,
   "id": "171e53fb",
   "metadata": {},
   "outputs": [
    {
     "name": "stdout",
     "output_type": "stream",
     "text": [
      "원문 : Saurav Kant, an alumnus of upGrad and IIIT-B's PG Program in Machine learning and Artificial Intelligence, was a Sr Systems Engineer at Infosys with almost 5 years of work experience. The program and upGrad's 360-degree career support helped him transition to a Data Scientist at Tech Mahindra with 90% salary hike. upGrad's Online Power Learning has powered 3 lakh+ careers.\n",
      "실제 요약 : upGrad learner switches to career in ML & Al with 90% salary hike\n",
      "예측 요약 : The program and upGrad's 360-degree career support helped him transition to a Data Scientist at Tech Mahindra with 90% salary hike.\n",
      "upGrad's Online Power Learning has powered 3 lakh+ careers.\n",
      "\n",
      "\n",
      "원문 : Kunal Shah's credit card bill payment platform, CRED, gave users a chance to win free food from Swiggy for one year. Pranav Kaushik, a Delhi techie, bagged this reward after spending 2000 CRED coins. Users get one CRED coin per rupee of bill paid, which can be used to avail rewards from brands like Ixigo, BookMyShow, UberEats, Cult.Fit and more.\n",
      "실제 요약 : Delhi techie wins free food from Swiggy for one year on CRED\n",
      "예측 요약 : Users get one CRED coin per rupee of bill paid, which can be used to avail rewards from brands like Ixigo, BookMyShow, UberEats, Cult.Fit and more.\n",
      "\n",
      "\n",
      "원문 : New Zealand defeated India by 8 wickets in the fourth ODI at Hamilton on Thursday to win their first match of the five-match ODI series. India lost an international match under Rohit Sharma's captaincy after 12 consecutive victories dating back to March 2018. The match witnessed India getting all out for 92, their seventh lowest total in ODI cricket history.\n",
      "실제 요약 : New Zealand end Rohit Sharma-led India's 12-match winning streak\n",
      "예측 요약 : New Zealand defeated India by 8 wickets in the fourth ODI at Hamilton on Thursday to win their first match of the five-match ODI series.\n",
      "The match witnessed India getting all out for 92, their seventh lowest total in ODI cricket history.\n",
      "\n",
      "\n",
      "원문 : With Aegon Life iTerm Insurance plan, customers can enjoy tax benefits on your premiums paid and save up to Ã¢ÂÂ¹46,800^ on taxes. The plan provides life cover up to the age of 100 years. Also, customers have options to insure against Critical Illnesses, Disability and Accidental Death Benefit Rider with a life cover up to the age of 80 years.\n",
      "실제 요약 : Aegon life iTerm insurance plan helps customers save tax\n",
      "예측 요약 : Also, customers have options to insure against Critical Illnesses, Disability and Accidental Death Benefit Rider with a life cover up to the age of 80 years.\n",
      "\n",
      "\n",
      "원문 : Speaking about the sexual harassment allegations against Rajkumar Hirani, Sonam Kapoor said, \"I've known Hirani for many years...What if it's not true, the [#MeToo] movement will get derailed.\" \"In the #MeToo movement, I always believe a woman. But in this case, we need to reserve our judgment,\" she added. Hirani has been accused by an assistant who worked in 'Sanju'.\n",
      "실제 요약 : Have known Hirani for yrs, what if MeToo claims are not true: Sonam\n",
      "예측 요약 : Speaking about the sexual harassment allegations against Rajkumar Hirani, Sonam Kapoor said, \"I've known Hirani for many years...What if it's not true, the [#MeToo] movement will get derailed.\" \"In the #MeToo movement, I always believe a woman.\n",
      "\n",
      "\n"
     ]
    }
   ],
   "source": [
    "for i in range(0, 5):\n",
    "    print(\"원문 :\", summa_data.iloc[i,1])\n",
    "    print(\"실제 요약 :\", summa_data.iloc[i,0])\n",
    "    print(\"예측 요약 :\", summarize(summa_data.iloc[i,1], words=30))\n",
    "    print(\"\\n\")"
   ]
  }
 ],
 "metadata": {
  "kernelspec": {
   "display_name": "Python 3 (ipykernel)",
   "language": "python",
   "name": "python3"
  },
  "language_info": {
   "codemirror_mode": {
    "name": "ipython",
    "version": 3
   },
   "file_extension": ".py",
   "mimetype": "text/x-python",
   "name": "python",
   "nbconvert_exporter": "python",
   "pygments_lexer": "ipython3",
   "version": "3.9.7"
  }
 },
 "nbformat": 4,
 "nbformat_minor": 5
}
